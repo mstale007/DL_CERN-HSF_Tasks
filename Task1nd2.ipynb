{
 "cells": [
  {
   "cell_type": "markdown",
   "metadata": {},
   "source": [
    "# Hi. Im Mihir. \n",
    "\n",
    "First of all i would like to mention that i really enjoyed doing these tasks...!\n",
    "It used up all my knowledge in Physics and Deep Learning and it was fun to actually work on these 2 fields simulataneuosly. \n",
    "A wonderful fusion..!\n",
    "I would love to continue doing such tasks and projects"
   ]
  },
  {
   "cell_type": "markdown",
   "metadata": {},
   "source": [
    "## My Understanding for the problem (in short)"
   ]
  },
  {
   "cell_type": "markdown",
   "metadata": {},
   "source": [
    "CMS Generates almost 40TB of data of events each second.\n",
    "Most of the data is reduntant and there are only few special events that happen very rarely and we would like to study and explore that..."
   ]
  },
  {
   "cell_type": "markdown",
   "metadata": {},
   "source": [
    "To get rid of the non-interesting(redundant) data focus on special events CERN has developed a two staged CMS trigger\n",
    "Any event can be called special if the actual momentum of the corresponding muons is high\n",
    "###### Level 1:  runs in hardware online reducing the throughput of data from 40 MHz to 100 KHz\n",
    "###### Level 2 (HLT):  operates in software online reducing the rate from 100 KHz to 1 KHz"
   ]
  },
  {
   "cell_type": "markdown",
   "metadata": {},
   "source": [
    "So basically task is to make a classifier, that given current readings of the collision classifies event as special or not based on momentum"
   ]
  },
  {
   "cell_type": "markdown",
   "metadata": {},
   "source": [
    "## Dataset Description"
   ]
  },
  {
   "cell_type": "markdown",
   "metadata": {},
   "source": [
    "There are 12 detectors: 5 CSC, 4 RPC, 3 GEM.<br />\n",
    "Each detector records 7 features of a hit location:\n",
    "\n",
    "<b>Phi angle, Theta angle</b>: Position and Spatial Orientation of hit location at each detector<br/>\n",
    "<b>Bending Angle</b>: Angle of deflection of muon due Magnetic field"
   ]
  },
  {
   "cell_type": "markdown",
   "metadata": {},
   "source": [
    "# Task1 and Task 2"
   ]
  },
  {
   "cell_type": "markdown",
   "metadata": {},
   "source": [
    "Perform <b>classification</b> where muon momenta are clustered into 4 ranges of absolute\n",
    "<br/>\n",
    "p_T ranges: 0-10 GeV, 10-30 GeV, 30-100 GeV and >100 GeV.\n",
    "<br/> \n",
    "Develop a Fully-Connected Network using a framework of your choice and evaluate its ability in classifying muon momentum ranges using the raw data muon data"
   ]
  },
  {
   "cell_type": "markdown",
   "metadata": {},
   "source": [
    "# Importing Libraries"
   ]
  },
  {
   "cell_type": "code",
   "execution_count": 1,
   "metadata": {},
   "outputs": [],
   "source": [
    "#Import Libraries\n",
    "import numpy as np\n",
    "import pandas as pd\n",
    "import warnings\n",
    "warnings.simplefilter(\"ignore\")"
   ]
  },
  {
   "cell_type": "code",
   "execution_count": 2,
   "metadata": {},
   "outputs": [
    {
     "name": "stdout",
     "output_type": "stream",
     "text": [
      "(3272341, 87)\n",
      "(3272341, 3)\n"
     ]
    }
   ],
   "source": [
    "#Load Dataset\n",
    "temp = np.load('histos_tba.20.npz')\n",
    "variables=temp[\"variables\"]\n",
    "parameters=temp[\"parameters\"]\n",
    "\n",
    "print(variables.shape)\n",
    "print(parameters.shape)"
   ]
  },
  {
   "cell_type": "markdown",
   "metadata": {},
   "source": [
    "# Data Preparation"
   ]
  },
  {
   "cell_type": "code",
   "execution_count": 3,
   "metadata": {},
   "outputs": [],
   "source": [
    "columns=[]\n",
    "for i in range(0,12):\n",
    "    columns.append(\"Phi_\"+str(i))\n",
    "for i in range(12,24):\n",
    "    columns.append(\"Theta_\"+str(i-12))\n",
    "for i in range(24,36):\n",
    "    columns.append(\"Bending_Angle\"+str(i-24))\n",
    "for i in range(36,48):\n",
    "    columns.append(\"Time_info\"+str(i-36))\n",
    "for i in range(48,60):\n",
    "    columns.append(\"Ring_no\"+str(i-48))\n",
    "for i in range(60,72):\n",
    "    columns.append(\"Front/Rear\"+str(i-60))\n",
    "for i in range(72,84):\n",
    "    columns.append(\"Mask\"+str(i-72))\n",
    "for i in range(84,87):\n",
    "    columns.append(\"X_road\"+str(i-84))\n",
    "columns2=[\"q/pt\",\"phi\",\"eta\"]"
   ]
  },
  {
   "cell_type": "code",
   "execution_count": 4,
   "metadata": {},
   "outputs": [],
   "source": [
    "df=pd.DataFrame(data=variables,columns=columns)\n",
    "y=pd.DataFrame(data=parameters,columns=columns2)"
   ]
  },
  {
   "cell_type": "code",
   "execution_count": 5,
   "metadata": {},
   "outputs": [
    {
     "data": {
      "text/html": [
       "<div>\n",
       "<style scoped>\n",
       "    .dataframe tbody tr th:only-of-type {\n",
       "        vertical-align: middle;\n",
       "    }\n",
       "\n",
       "    .dataframe tbody tr th {\n",
       "        vertical-align: top;\n",
       "    }\n",
       "\n",
       "    .dataframe thead th {\n",
       "        text-align: right;\n",
       "    }\n",
       "</style>\n",
       "<table border=\"1\" class=\"dataframe\">\n",
       "  <thead>\n",
       "    <tr style=\"text-align: right;\">\n",
       "      <th></th>\n",
       "      <th>Phi_0</th>\n",
       "      <th>Phi_1</th>\n",
       "      <th>Phi_2</th>\n",
       "      <th>Phi_3</th>\n",
       "      <th>Phi_4</th>\n",
       "      <th>Phi_5</th>\n",
       "      <th>Phi_6</th>\n",
       "      <th>Phi_7</th>\n",
       "      <th>Phi_8</th>\n",
       "      <th>Phi_9</th>\n",
       "      <th>...</th>\n",
       "      <th>Mask6</th>\n",
       "      <th>Mask7</th>\n",
       "      <th>Mask8</th>\n",
       "      <th>Mask9</th>\n",
       "      <th>Mask10</th>\n",
       "      <th>Mask11</th>\n",
       "      <th>X_road0</th>\n",
       "      <th>X_road1</th>\n",
       "      <th>X_road2</th>\n",
       "      <th>Y</th>\n",
       "    </tr>\n",
       "  </thead>\n",
       "  <tbody>\n",
       "    <tr>\n",
       "      <th>0</th>\n",
       "      <td>3190.0</td>\n",
       "      <td>NaN</td>\n",
       "      <td>3546.0</td>\n",
       "      <td>3568.0</td>\n",
       "      <td>NaN</td>\n",
       "      <td>NaN</td>\n",
       "      <td>NaN</td>\n",
       "      <td>3568.0</td>\n",
       "      <td>NaN</td>\n",
       "      <td>3127.0</td>\n",
       "      <td>...</td>\n",
       "      <td>1.0</td>\n",
       "      <td>0.0</td>\n",
       "      <td>1.0</td>\n",
       "      <td>0.0</td>\n",
       "      <td>0.0</td>\n",
       "      <td>0.0</td>\n",
       "      <td>1.0</td>\n",
       "      <td>1.0</td>\n",
       "      <td>108.0</td>\n",
       "      <td>-2.244101</td>\n",
       "    </tr>\n",
       "    <tr>\n",
       "      <th>1</th>\n",
       "      <td>2865.0</td>\n",
       "      <td>NaN</td>\n",
       "      <td>2622.0</td>\n",
       "      <td>2608.0</td>\n",
       "      <td>NaN</td>\n",
       "      <td>NaN</td>\n",
       "      <td>NaN</td>\n",
       "      <td>2604.0</td>\n",
       "      <td>2600.0</td>\n",
       "      <td>NaN</td>\n",
       "      <td>...</td>\n",
       "      <td>1.0</td>\n",
       "      <td>0.0</td>\n",
       "      <td>0.0</td>\n",
       "      <td>1.0</td>\n",
       "      <td>0.0</td>\n",
       "      <td>0.0</td>\n",
       "      <td>7.0</td>\n",
       "      <td>0.0</td>\n",
       "      <td>84.0</td>\n",
       "      <td>2.833134</td>\n",
       "    </tr>\n",
       "    <tr>\n",
       "      <th>2</th>\n",
       "      <td>NaN</td>\n",
       "      <td>1415.0</td>\n",
       "      <td>1455.0</td>\n",
       "      <td>1440.0</td>\n",
       "      <td>1408.0</td>\n",
       "      <td>1440.0</td>\n",
       "      <td>1460.0</td>\n",
       "      <td>1424.0</td>\n",
       "      <td>NaN</td>\n",
       "      <td>NaN</td>\n",
       "      <td>...</td>\n",
       "      <td>0.0</td>\n",
       "      <td>0.0</td>\n",
       "      <td>1.0</td>\n",
       "      <td>1.0</td>\n",
       "      <td>1.0</td>\n",
       "      <td>1.0</td>\n",
       "      <td>4.0</td>\n",
       "      <td>5.0</td>\n",
       "      <td>45.0</td>\n",
       "      <td>-6.144695</td>\n",
       "    </tr>\n",
       "    <tr>\n",
       "      <th>3</th>\n",
       "      <td>3484.0</td>\n",
       "      <td>NaN</td>\n",
       "      <td>3328.0</td>\n",
       "      <td>3328.0</td>\n",
       "      <td>3360.0</td>\n",
       "      <td>NaN</td>\n",
       "      <td>NaN</td>\n",
       "      <td>3336.0</td>\n",
       "      <td>NaN</td>\n",
       "      <td>3520.0</td>\n",
       "      <td>...</td>\n",
       "      <td>1.0</td>\n",
       "      <td>0.0</td>\n",
       "      <td>1.0</td>\n",
       "      <td>0.0</td>\n",
       "      <td>0.0</td>\n",
       "      <td>1.0</td>\n",
       "      <td>5.0</td>\n",
       "      <td>3.0</td>\n",
       "      <td>105.0</td>\n",
       "      <td>5.518491</td>\n",
       "    </tr>\n",
       "    <tr>\n",
       "      <th>4</th>\n",
       "      <td>4867.0</td>\n",
       "      <td>NaN</td>\n",
       "      <td>NaN</td>\n",
       "      <td>4648.0</td>\n",
       "      <td>4688.0</td>\n",
       "      <td>NaN</td>\n",
       "      <td>NaN</td>\n",
       "      <td>4656.0</td>\n",
       "      <td>4696.0</td>\n",
       "      <td>4923.0</td>\n",
       "      <td>...</td>\n",
       "      <td>1.0</td>\n",
       "      <td>0.0</td>\n",
       "      <td>0.0</td>\n",
       "      <td>0.0</td>\n",
       "      <td>0.0</td>\n",
       "      <td>1.0</td>\n",
       "      <td>6.0</td>\n",
       "      <td>1.0</td>\n",
       "      <td>146.0</td>\n",
       "      <td>2.620281</td>\n",
       "    </tr>\n",
       "    <tr>\n",
       "      <th>5</th>\n",
       "      <td>3875.0</td>\n",
       "      <td>NaN</td>\n",
       "      <td>4008.0</td>\n",
       "      <td>4024.0</td>\n",
       "      <td>4032.0</td>\n",
       "      <td>NaN</td>\n",
       "      <td>NaN</td>\n",
       "      <td>4028.0</td>\n",
       "      <td>4032.0</td>\n",
       "      <td>3850.0</td>\n",
       "      <td>...</td>\n",
       "      <td>1.0</td>\n",
       "      <td>0.0</td>\n",
       "      <td>0.0</td>\n",
       "      <td>0.0</td>\n",
       "      <td>0.0</td>\n",
       "      <td>0.0</td>\n",
       "      <td>3.0</td>\n",
       "      <td>1.0</td>\n",
       "      <td>124.0</td>\n",
       "      <td>-6.843162</td>\n",
       "    </tr>\n",
       "    <tr>\n",
       "      <th>6</th>\n",
       "      <td>4308.0</td>\n",
       "      <td>NaN</td>\n",
       "      <td>3838.0</td>\n",
       "      <td>NaN</td>\n",
       "      <td>NaN</td>\n",
       "      <td>NaN</td>\n",
       "      <td>NaN</td>\n",
       "      <td>NaN</td>\n",
       "      <td>NaN</td>\n",
       "      <td>4387.0</td>\n",
       "      <td>...</td>\n",
       "      <td>1.0</td>\n",
       "      <td>1.0</td>\n",
       "      <td>1.0</td>\n",
       "      <td>0.0</td>\n",
       "      <td>0.0</td>\n",
       "      <td>0.0</td>\n",
       "      <td>8.0</td>\n",
       "      <td>1.0</td>\n",
       "      <td>124.0</td>\n",
       "      <td>2.378406</td>\n",
       "    </tr>\n",
       "    <tr>\n",
       "      <th>7</th>\n",
       "      <td>3426.0</td>\n",
       "      <td>NaN</td>\n",
       "      <td>3720.0</td>\n",
       "      <td>3808.0</td>\n",
       "      <td>NaN</td>\n",
       "      <td>NaN</td>\n",
       "      <td>NaN</td>\n",
       "      <td>3816.0</td>\n",
       "      <td>3860.0</td>\n",
       "      <td>NaN</td>\n",
       "      <td>...</td>\n",
       "      <td>1.0</td>\n",
       "      <td>0.0</td>\n",
       "      <td>0.0</td>\n",
       "      <td>1.0</td>\n",
       "      <td>0.0</td>\n",
       "      <td>0.0</td>\n",
       "      <td>0.0</td>\n",
       "      <td>0.0</td>\n",
       "      <td>116.0</td>\n",
       "      <td>-2.898209</td>\n",
       "    </tr>\n",
       "    <tr>\n",
       "      <th>8</th>\n",
       "      <td>4269.0</td>\n",
       "      <td>NaN</td>\n",
       "      <td>4022.0</td>\n",
       "      <td>3976.0</td>\n",
       "      <td>3928.0</td>\n",
       "      <td>NaN</td>\n",
       "      <td>NaN</td>\n",
       "      <td>3956.0</td>\n",
       "      <td>3904.0</td>\n",
       "      <td>NaN</td>\n",
       "      <td>...</td>\n",
       "      <td>1.0</td>\n",
       "      <td>0.0</td>\n",
       "      <td>0.0</td>\n",
       "      <td>1.0</td>\n",
       "      <td>0.0</td>\n",
       "      <td>0.0</td>\n",
       "      <td>7.0</td>\n",
       "      <td>0.0</td>\n",
       "      <td>127.0</td>\n",
       "      <td>2.724614</td>\n",
       "    </tr>\n",
       "    <tr>\n",
       "      <th>9</th>\n",
       "      <td>2096.0</td>\n",
       "      <td>NaN</td>\n",
       "      <td>1872.0</td>\n",
       "      <td>1872.0</td>\n",
       "      <td>1910.0</td>\n",
       "      <td>NaN</td>\n",
       "      <td>NaN</td>\n",
       "      <td>1876.0</td>\n",
       "      <td>NaN</td>\n",
       "      <td>2142.0</td>\n",
       "      <td>...</td>\n",
       "      <td>1.0</td>\n",
       "      <td>0.0</td>\n",
       "      <td>1.0</td>\n",
       "      <td>0.0</td>\n",
       "      <td>0.0</td>\n",
       "      <td>1.0</td>\n",
       "      <td>6.0</td>\n",
       "      <td>2.0</td>\n",
       "      <td>60.0</td>\n",
       "      <td>3.734490</td>\n",
       "    </tr>\n",
       "  </tbody>\n",
       "</table>\n",
       "<p>10 rows × 88 columns</p>\n",
       "</div>"
      ],
      "text/plain": [
       "    Phi_0   Phi_1   Phi_2   Phi_3   Phi_4   Phi_5   Phi_6   Phi_7   Phi_8  \\\n",
       "0  3190.0     NaN  3546.0  3568.0     NaN     NaN     NaN  3568.0     NaN   \n",
       "1  2865.0     NaN  2622.0  2608.0     NaN     NaN     NaN  2604.0  2600.0   \n",
       "2     NaN  1415.0  1455.0  1440.0  1408.0  1440.0  1460.0  1424.0     NaN   \n",
       "3  3484.0     NaN  3328.0  3328.0  3360.0     NaN     NaN  3336.0     NaN   \n",
       "4  4867.0     NaN     NaN  4648.0  4688.0     NaN     NaN  4656.0  4696.0   \n",
       "5  3875.0     NaN  4008.0  4024.0  4032.0     NaN     NaN  4028.0  4032.0   \n",
       "6  4308.0     NaN  3838.0     NaN     NaN     NaN     NaN     NaN     NaN   \n",
       "7  3426.0     NaN  3720.0  3808.0     NaN     NaN     NaN  3816.0  3860.0   \n",
       "8  4269.0     NaN  4022.0  3976.0  3928.0     NaN     NaN  3956.0  3904.0   \n",
       "9  2096.0     NaN  1872.0  1872.0  1910.0     NaN     NaN  1876.0     NaN   \n",
       "\n",
       "    Phi_9  ...  Mask6  Mask7  Mask8  Mask9  Mask10  Mask11  X_road0  X_road1  \\\n",
       "0  3127.0  ...    1.0    0.0    1.0    0.0     0.0     0.0      1.0      1.0   \n",
       "1     NaN  ...    1.0    0.0    0.0    1.0     0.0     0.0      7.0      0.0   \n",
       "2     NaN  ...    0.0    0.0    1.0    1.0     1.0     1.0      4.0      5.0   \n",
       "3  3520.0  ...    1.0    0.0    1.0    0.0     0.0     1.0      5.0      3.0   \n",
       "4  4923.0  ...    1.0    0.0    0.0    0.0     0.0     1.0      6.0      1.0   \n",
       "5  3850.0  ...    1.0    0.0    0.0    0.0     0.0     0.0      3.0      1.0   \n",
       "6  4387.0  ...    1.0    1.0    1.0    0.0     0.0     0.0      8.0      1.0   \n",
       "7     NaN  ...    1.0    0.0    0.0    1.0     0.0     0.0      0.0      0.0   \n",
       "8     NaN  ...    1.0    0.0    0.0    1.0     0.0     0.0      7.0      0.0   \n",
       "9  2142.0  ...    1.0    0.0    1.0    0.0     0.0     1.0      6.0      2.0   \n",
       "\n",
       "   X_road2         Y  \n",
       "0    108.0 -2.244101  \n",
       "1     84.0  2.833134  \n",
       "2     45.0 -6.144695  \n",
       "3    105.0  5.518491  \n",
       "4    146.0  2.620281  \n",
       "5    124.0 -6.843162  \n",
       "6    124.0  2.378406  \n",
       "7    116.0 -2.898209  \n",
       "8    127.0  2.724614  \n",
       "9     60.0  3.734490  \n",
       "\n",
       "[10 rows x 88 columns]"
      ]
     },
     "execution_count": 5,
     "metadata": {},
     "output_type": "execute_result"
    }
   ],
   "source": [
    "df[\"Y\"]=y[\"q/pt\"]\n",
    "df[\"Y\"]=df[\"Y\"].transform(lambda x:1/x)\n",
    "df.head(10)"
   ]
  },
  {
   "cell_type": "markdown",
   "metadata": {},
   "source": [
    "### Finding Missing data"
   ]
  },
  {
   "cell_type": "code",
   "execution_count": 6,
   "metadata": {},
   "outputs": [
    {
     "data": {
      "text/plain": [
       "<matplotlib.axes._subplots.AxesSubplot at 0x2e89f1976d8>"
      ]
     },
     "execution_count": 6,
     "metadata": {},
     "output_type": "execute_result"
    }
   ],
   "source": [
    "#Plotting available data for each station\n",
    "phi_col = [col for col in df if col.startswith('Phi_')]\n",
    "import missingno as msno \n",
    "msno.bar(df[phi_col]) "
   ]
  },
  {
   "cell_type": "markdown",
   "metadata": {},
   "source": [
    "From the above graph we can see that more than <b>50%</b> the data from Detector number 1,5,6,7,11 (staring from 0) is <b>missing</b>.\n",
    "\n",
    "From which we can draw few conclusions:<br/>\n",
    "<ul>\n",
    "<li>Firstly, this might be an indication that algortihm used to generate this data is less biased towards these detecors</li>\n",
    "<li>Or if not that, It is possible that the missing data is showing some actual physical property of the muons, which is making it avoid these detectors most of the times</li>\n",
    "</ul>\n",
    "\n",
    "Whatever might be the case, now we have 2 options to deal with this situatuion:\n",
    "<ol>\n",
    "    <li>Try doing Linear Interpolation for values of phi, theta as these values will always be increasing or decreasing in order</li>\n",
    "    <li> Drop columns of these detectors(Not Recommended)</li>\n",
    "</ol>"
   ]
  },
  {
   "cell_type": "code",
   "execution_count": 7,
   "metadata": {},
   "outputs": [],
   "source": [
    "#Seems like algorithm use for generation of data is biased or its actually in real world\n",
    "col=[\n",
    "    'Phi_1', 'Phi_5', 'Phi_6', 'Phi_9', 'Phi_11', \n",
    "     'Theta_1', 'Theta_5', 'Theta_6', 'Theta_9', 'Theta_11', \n",
    "     'Bending_Angle1', 'Bending_Angle5', 'Bending_Angle6', 'Bending_Angle9', 'Bending_Angle11', \n",
    "     'Time_info0', 'Time_info1','Time_info2','Time_info3','Time_info4','Time_info5', 'Time_info6','Time_info7','Time_info8', 'Time_info9', 'Time_info10','Time_info11', \n",
    "     'Ring_no1', 'Ring_no5', 'Ring_no6', 'Ring_no9', 'Ring_no11', \n",
    "     'Front/Rear1', 'Front/Rear5', 'Front/Rear6', 'Front/Rear9', 'Front/Rear11'\n",
    "    ]"
   ]
  },
  {
   "cell_type": "code",
   "execution_count": 8,
   "metadata": {},
   "outputs": [],
   "source": [
    "df2=df.drop(col,axis=1,inplace=False)"
   ]
  },
  {
   "cell_type": "code",
   "execution_count": 9,
   "metadata": {},
   "outputs": [
    {
     "data": {
      "text/plain": [
       "Index(['Phi_0', 'Phi_2', 'Phi_3', 'Phi_4', 'Phi_7', 'Phi_8', 'Phi_10',\n",
       "       'Theta_0', 'Theta_2', 'Theta_3', 'Theta_4', 'Theta_7', 'Theta_8',\n",
       "       'Theta_10', 'Bending_Angle0', 'Bending_Angle2', 'Bending_Angle3',\n",
       "       'Bending_Angle4', 'Bending_Angle7', 'Bending_Angle8', 'Bending_Angle10',\n",
       "       'Ring_no0', 'Ring_no2', 'Ring_no3', 'Ring_no4', 'Ring_no7', 'Ring_no8',\n",
       "       'Ring_no10', 'Front/Rear0', 'Front/Rear2', 'Front/Rear3', 'Front/Rear4',\n",
       "       'Front/Rear7', 'Front/Rear8', 'Front/Rear10', 'Mask0', 'Mask1', 'Mask2',\n",
       "       'Mask3', 'Mask4', 'Mask5', 'Mask6', 'Mask7', 'Mask8', 'Mask9', 'Mask10',\n",
       "       'Mask11', 'X_road0', 'X_road1', 'X_road2', 'Y'],\n",
       "      dtype='object')"
      ]
     },
     "execution_count": 9,
     "metadata": {},
     "output_type": "execute_result"
    }
   ],
   "source": [
    "df2.columns"
   ]
  },
  {
   "cell_type": "markdown",
   "metadata": {},
   "source": [
    "In my case, I have directly dropped the columns and then dropped the rows containing missig values(\"NA\")<br/>\n",
    "But i think filling the missing values of phi and theta with linear interpolation and then repeating the same steps is worth a try as it will save some more valuable data"
   ]
  },
  {
   "cell_type": "code",
   "execution_count": 48,
   "metadata": {},
   "outputs": [
    {
     "name": "stdout",
     "output_type": "stream",
     "text": [
      "712329\n"
     ]
    }
   ],
   "source": [
    "df3=df2.dropna(axis=0)\n",
    "print(len(df3))\n",
    "#TO DO: Try Linear Interpolation"
   ]
  },
  {
   "cell_type": "markdown",
   "metadata": {},
   "source": [
    "### Plot for eta,phi and Pt"
   ]
  },
  {
   "cell_type": "code",
   "execution_count": 49,
   "metadata": {},
   "outputs": [
    {
     "name": "stdout",
     "output_type": "stream",
     "text": [
      "(3272341,) (3272341,) (3272341,)\n"
     ]
    },
    {
     "data": {
      "image/png": "[encoded data removed]",
      "text/plain": [
       "<Figure size 432x288 with 1 Axes>"
      ]
     },
     "metadata": {
      "needs_background": "light"
     },
     "output_type": "display_data"
    }
   ],
   "source": [
    "from sklearn import preprocessing\n",
    "min_max_scaler = preprocessing.MinMaxScaler()\n",
    "Z = min_max_scaler.fit_transform(np.array(df[\"Y\"]).reshape(-1,1))\n",
    "Z=Z.reshape(len(y),)\n",
    "print(Z.shape,y[\"phi\"].shape,y[\"eta\"].shape)\n",
    "import matplotlib.pyplot as plt\n",
    "from mpl_toolkits.mplot3d import Axes3D\n",
    "fig = plt.figure()\n",
    "ax = fig.gca(projection='3d')\n",
    "X = y[\"phi\"][::10000]\n",
    "Y =  y[\"eta\"][::10000]\n",
    "#X, Y = np.meshgrid(X, Y)\n",
    "Z=Z[::10000]\n",
    "ax.scatter(Z,Y,X,linewidth=0, antialiased=False)\n",
    "plt.show()"
   ]
  },
  {
   "cell_type": "code",
   "execution_count": 50,
   "metadata": {},
   "outputs": [
    {
     "data": {
      "image/png": "[encoded data removed]",
      "text/plain": [
       "<Figure size 432x288 with 2 Axes>"
      ]
     },
     "metadata": {
      "needs_background": "light"
     },
     "output_type": "display_data"
    }
   ],
   "source": [
    "plt.scatter(X, Y, c=Z, alpha=0.7,cmap='viridis')\n",
    "plt.colorbar()\n",
    "plt.xlabel(\"phi\")\n",
    "plt.ylabel(\"eta\");"
   ]
  },
  {
   "cell_type": "markdown",
   "metadata": {},
   "source": [
    "#### My next step was to replace the Phi and theta's with delta phi and delta theta"
   ]
  },
  {
   "cell_type": "code",
   "execution_count": 51,
   "metadata": {},
   "outputs": [
    {
     "data": {
      "text/html": [
       "<div>\n",
       "<style scoped>\n",
       "    .dataframe tbody tr th:only-of-type {\n",
       "        vertical-align: middle;\n",
       "    }\n",
       "\n",
       "    .dataframe tbody tr th {\n",
       "        vertical-align: top;\n",
       "    }\n",
       "\n",
       "    .dataframe thead th {\n",
       "        text-align: right;\n",
       "    }\n",
       "</style>\n",
       "<table border=\"1\" class=\"dataframe\">\n",
       "  <thead>\n",
       "    <tr style=\"text-align: right;\">\n",
       "      <th></th>\n",
       "      <th>5</th>\n",
       "      <th>8</th>\n",
       "      <th>10</th>\n",
       "      <th>20</th>\n",
       "      <th>28</th>\n",
       "      <th>38</th>\n",
       "      <th>43</th>\n",
       "      <th>48</th>\n",
       "      <th>62</th>\n",
       "      <th>63</th>\n",
       "      <th>...</th>\n",
       "      <th>3272297</th>\n",
       "      <th>3272305</th>\n",
       "      <th>3272308</th>\n",
       "      <th>3272313</th>\n",
       "      <th>3272314</th>\n",
       "      <th>3272316</th>\n",
       "      <th>3272320</th>\n",
       "      <th>3272326</th>\n",
       "      <th>3272334</th>\n",
       "      <th>3272336</th>\n",
       "    </tr>\n",
       "  </thead>\n",
       "  <tbody>\n",
       "    <tr>\n",
       "      <th>Phi_0</th>\n",
       "      <td>3875.0</td>\n",
       "      <td>4269.0</td>\n",
       "      <td>4089.0</td>\n",
       "      <td>3924.0</td>\n",
       "      <td>4544.0</td>\n",
       "      <td>2043.0</td>\n",
       "      <td>4278.0</td>\n",
       "      <td>1294.0</td>\n",
       "      <td>2537.0</td>\n",
       "      <td>3716.0</td>\n",
       "      <td>...</td>\n",
       "      <td>2212.0</td>\n",
       "      <td>1798.0</td>\n",
       "      <td>3176.0</td>\n",
       "      <td>2644.0</td>\n",
       "      <td>4782.0</td>\n",
       "      <td>1295.0</td>\n",
       "      <td>2306.0</td>\n",
       "      <td>2364.0</td>\n",
       "      <td>3932.0</td>\n",
       "      <td>2477.0</td>\n",
       "    </tr>\n",
       "    <tr>\n",
       "      <th>Phi_2</th>\n",
       "      <td>4008.0</td>\n",
       "      <td>4022.0</td>\n",
       "      <td>4096.0</td>\n",
       "      <td>4008.0</td>\n",
       "      <td>4744.0</td>\n",
       "      <td>1726.0</td>\n",
       "      <td>4304.0</td>\n",
       "      <td>1384.0</td>\n",
       "      <td>2360.0</td>\n",
       "      <td>3696.0</td>\n",
       "      <td>...</td>\n",
       "      <td>2664.0</td>\n",
       "      <td>1710.0</td>\n",
       "      <td>3258.0</td>\n",
       "      <td>2776.0</td>\n",
       "      <td>4866.0</td>\n",
       "      <td>1368.0</td>\n",
       "      <td>2256.0</td>\n",
       "      <td>2408.0</td>\n",
       "      <td>3806.0</td>\n",
       "      <td>2432.0</td>\n",
       "    </tr>\n",
       "    <tr>\n",
       "      <th>Phi_3</th>\n",
       "      <td>4024.0</td>\n",
       "      <td>3976.0</td>\n",
       "      <td>4098.0</td>\n",
       "      <td>4040.0</td>\n",
       "      <td>4752.0</td>\n",
       "      <td>1688.0</td>\n",
       "      <td>4312.0</td>\n",
       "      <td>1392.0</td>\n",
       "      <td>2304.0</td>\n",
       "      <td>3680.0</td>\n",
       "      <td>...</td>\n",
       "      <td>2530.0</td>\n",
       "      <td>1696.0</td>\n",
       "      <td>3272.0</td>\n",
       "      <td>2800.0</td>\n",
       "      <td>4880.0</td>\n",
       "      <td>1392.0</td>\n",
       "      <td>2240.0</td>\n",
       "      <td>2416.0</td>\n",
       "      <td>3776.0</td>\n",
       "      <td>2422.0</td>\n",
       "    </tr>\n",
       "    <tr>\n",
       "      <th>Phi_4</th>\n",
       "      <td>4032.0</td>\n",
       "      <td>3928.0</td>\n",
       "      <td>4104.0</td>\n",
       "      <td>4048.0</td>\n",
       "      <td>4736.0</td>\n",
       "      <td>1728.0</td>\n",
       "      <td>4312.0</td>\n",
       "      <td>1392.0</td>\n",
       "      <td>2288.0</td>\n",
       "      <td>3680.0</td>\n",
       "      <td>...</td>\n",
       "      <td>2402.0</td>\n",
       "      <td>1688.0</td>\n",
       "      <td>3270.0</td>\n",
       "      <td>2800.0</td>\n",
       "      <td>4888.0</td>\n",
       "      <td>1400.0</td>\n",
       "      <td>2240.0</td>\n",
       "      <td>2424.0</td>\n",
       "      <td>3784.0</td>\n",
       "      <td>2424.0</td>\n",
       "    </tr>\n",
       "    <tr>\n",
       "      <th>Phi_7</th>\n",
       "      <td>4028.0</td>\n",
       "      <td>3956.0</td>\n",
       "      <td>4108.0</td>\n",
       "      <td>4040.0</td>\n",
       "      <td>4744.0</td>\n",
       "      <td>1696.0</td>\n",
       "      <td>4316.0</td>\n",
       "      <td>1392.0</td>\n",
       "      <td>2300.0</td>\n",
       "      <td>3684.0</td>\n",
       "      <td>...</td>\n",
       "      <td>2472.0</td>\n",
       "      <td>1692.0</td>\n",
       "      <td>3268.0</td>\n",
       "      <td>2800.0</td>\n",
       "      <td>4884.0</td>\n",
       "      <td>1392.0</td>\n",
       "      <td>2240.0</td>\n",
       "      <td>2420.0</td>\n",
       "      <td>3776.0</td>\n",
       "      <td>2424.0</td>\n",
       "    </tr>\n",
       "  </tbody>\n",
       "</table>\n",
       "<p>5 rows × 712329 columns</p>\n",
       "</div>"
      ],
      "text/plain": [
       "       5        8        10       20       28       38       43       48       \\\n",
       "Phi_0   3875.0   4269.0   4089.0   3924.0   4544.0   2043.0   4278.0   1294.0   \n",
       "Phi_2   4008.0   4022.0   4096.0   4008.0   4744.0   1726.0   4304.0   1384.0   \n",
       "Phi_3   4024.0   3976.0   4098.0   4040.0   4752.0   1688.0   4312.0   1392.0   \n",
       "Phi_4   4032.0   3928.0   4104.0   4048.0   4736.0   1728.0   4312.0   1392.0   \n",
       "Phi_7   4028.0   3956.0   4108.0   4040.0   4744.0   1696.0   4316.0   1392.0   \n",
       "\n",
       "       62       63       ...  3272297  3272305  3272308  3272313  3272314  \\\n",
       "Phi_0   2537.0   3716.0  ...   2212.0   1798.0   3176.0   2644.0   4782.0   \n",
       "Phi_2   2360.0   3696.0  ...   2664.0   1710.0   3258.0   2776.0   4866.0   \n",
       "Phi_3   2304.0   3680.0  ...   2530.0   1696.0   3272.0   2800.0   4880.0   \n",
       "Phi_4   2288.0   3680.0  ...   2402.0   1688.0   3270.0   2800.0   4888.0   \n",
       "Phi_7   2300.0   3684.0  ...   2472.0   1692.0   3268.0   2800.0   4884.0   \n",
       "\n",
       "       3272316  3272320  3272326  3272334  3272336  \n",
       "Phi_0   1295.0   2306.0   2364.0   3932.0   2477.0  \n",
       "Phi_2   1368.0   2256.0   2408.0   3806.0   2432.0  \n",
       "Phi_3   1392.0   2240.0   2416.0   3776.0   2422.0  \n",
       "Phi_4   1400.0   2240.0   2424.0   3784.0   2424.0  \n",
       "Phi_7   1392.0   2240.0   2420.0   3776.0   2424.0  \n",
       "\n",
       "[5 rows x 712329 columns]"
      ]
     },
     "execution_count": 51,
     "metadata": {},
     "output_type": "execute_result"
    }
   ],
   "source": [
    "phi=pd.DataFrame()\n",
    "phi_col = [col for col in df3 if col.startswith('Phi_')]\n",
    "phi=df3[phi_col].T\n",
    "phi.head()"
   ]
  },
  {
   "cell_type": "code",
   "execution_count": 52,
   "metadata": {},
   "outputs": [
    {
     "data": {
      "text/html": [
       "<div>\n",
       "<style scoped>\n",
       "    .dataframe tbody tr th:only-of-type {\n",
       "        vertical-align: middle;\n",
       "    }\n",
       "\n",
       "    .dataframe tbody tr th {\n",
       "        vertical-align: top;\n",
       "    }\n",
       "\n",
       "    .dataframe thead th {\n",
       "        text-align: right;\n",
       "    }\n",
       "</style>\n",
       "<table border=\"1\" class=\"dataframe\">\n",
       "  <thead>\n",
       "    <tr style=\"text-align: right;\">\n",
       "      <th></th>\n",
       "      <th>Phi_0</th>\n",
       "      <th>Phi_2</th>\n",
       "      <th>Phi_3</th>\n",
       "      <th>Phi_4</th>\n",
       "      <th>Phi_7</th>\n",
       "      <th>Phi_8</th>\n",
       "      <th>Phi_10</th>\n",
       "      <th>Theta_0</th>\n",
       "      <th>Theta_2</th>\n",
       "      <th>Theta_3</th>\n",
       "      <th>...</th>\n",
       "      <th>X_road0</th>\n",
       "      <th>X_road1</th>\n",
       "      <th>X_road2</th>\n",
       "      <th>Y</th>\n",
       "      <th>Delta_0</th>\n",
       "      <th>Delta_1</th>\n",
       "      <th>Delta_2</th>\n",
       "      <th>Delta_3</th>\n",
       "      <th>Delta_4</th>\n",
       "      <th>Delta_5</th>\n",
       "    </tr>\n",
       "  </thead>\n",
       "  <tbody>\n",
       "    <tr>\n",
       "      <th>5</th>\n",
       "      <td>3875.0</td>\n",
       "      <td>4008.0</td>\n",
       "      <td>4024.0</td>\n",
       "      <td>4032.0</td>\n",
       "      <td>4028.0</td>\n",
       "      <td>4032.0</td>\n",
       "      <td>3994.0</td>\n",
       "      <td>23.0</td>\n",
       "      <td>24.0</td>\n",
       "      <td>23.0</td>\n",
       "      <td>...</td>\n",
       "      <td>3.0</td>\n",
       "      <td>1.0</td>\n",
       "      <td>124.0</td>\n",
       "      <td>-6.843162</td>\n",
       "      <td>-133.0</td>\n",
       "      <td>-16.0</td>\n",
       "      <td>-8.0</td>\n",
       "      <td>4.0</td>\n",
       "      <td>-4.0</td>\n",
       "      <td>38.0</td>\n",
       "    </tr>\n",
       "    <tr>\n",
       "      <th>8</th>\n",
       "      <td>4269.0</td>\n",
       "      <td>4022.0</td>\n",
       "      <td>3976.0</td>\n",
       "      <td>3928.0</td>\n",
       "      <td>3956.0</td>\n",
       "      <td>3904.0</td>\n",
       "      <td>4066.0</td>\n",
       "      <td>10.0</td>\n",
       "      <td>9.0</td>\n",
       "      <td>8.0</td>\n",
       "      <td>...</td>\n",
       "      <td>7.0</td>\n",
       "      <td>0.0</td>\n",
       "      <td>127.0</td>\n",
       "      <td>2.724614</td>\n",
       "      <td>247.0</td>\n",
       "      <td>46.0</td>\n",
       "      <td>48.0</td>\n",
       "      <td>-28.0</td>\n",
       "      <td>52.0</td>\n",
       "      <td>-162.0</td>\n",
       "    </tr>\n",
       "    <tr>\n",
       "      <th>10</th>\n",
       "      <td>4089.0</td>\n",
       "      <td>4096.0</td>\n",
       "      <td>4098.0</td>\n",
       "      <td>4104.0</td>\n",
       "      <td>4108.0</td>\n",
       "      <td>4104.0</td>\n",
       "      <td>4098.0</td>\n",
       "      <td>9.0</td>\n",
       "      <td>9.0</td>\n",
       "      <td>9.0</td>\n",
       "      <td>...</td>\n",
       "      <td>4.0</td>\n",
       "      <td>0.0</td>\n",
       "      <td>128.0</td>\n",
       "      <td>-52.140009</td>\n",
       "      <td>-7.0</td>\n",
       "      <td>-2.0</td>\n",
       "      <td>-6.0</td>\n",
       "      <td>-4.0</td>\n",
       "      <td>4.0</td>\n",
       "      <td>6.0</td>\n",
       "    </tr>\n",
       "    <tr>\n",
       "      <th>20</th>\n",
       "      <td>3924.0</td>\n",
       "      <td>4008.0</td>\n",
       "      <td>4040.0</td>\n",
       "      <td>4048.0</td>\n",
       "      <td>4040.0</td>\n",
       "      <td>4048.0</td>\n",
       "      <td>4004.0</td>\n",
       "      <td>19.0</td>\n",
       "      <td>18.0</td>\n",
       "      <td>18.0</td>\n",
       "      <td>...</td>\n",
       "      <td>3.0</td>\n",
       "      <td>1.0</td>\n",
       "      <td>126.0</td>\n",
       "      <td>-7.159509</td>\n",
       "      <td>-84.0</td>\n",
       "      <td>-32.0</td>\n",
       "      <td>-8.0</td>\n",
       "      <td>8.0</td>\n",
       "      <td>-8.0</td>\n",
       "      <td>44.0</td>\n",
       "    </tr>\n",
       "    <tr>\n",
       "      <th>28</th>\n",
       "      <td>4544.0</td>\n",
       "      <td>4744.0</td>\n",
       "      <td>4752.0</td>\n",
       "      <td>4736.0</td>\n",
       "      <td>4744.0</td>\n",
       "      <td>4744.0</td>\n",
       "      <td>4731.0</td>\n",
       "      <td>40.0</td>\n",
       "      <td>39.0</td>\n",
       "      <td>39.0</td>\n",
       "      <td>...</td>\n",
       "      <td>2.0</td>\n",
       "      <td>3.0</td>\n",
       "      <td>149.0</td>\n",
       "      <td>-4.734953</td>\n",
       "      <td>-200.0</td>\n",
       "      <td>-8.0</td>\n",
       "      <td>16.0</td>\n",
       "      <td>-8.0</td>\n",
       "      <td>0.0</td>\n",
       "      <td>13.0</td>\n",
       "    </tr>\n",
       "  </tbody>\n",
       "</table>\n",
       "<p>5 rows × 57 columns</p>\n",
       "</div>"
      ],
      "text/plain": [
       "     Phi_0   Phi_2   Phi_3   Phi_4   Phi_7   Phi_8  Phi_10  Theta_0  Theta_2  \\\n",
       "5   3875.0  4008.0  4024.0  4032.0  4028.0  4032.0  3994.0     23.0     24.0   \n",
       "8   4269.0  4022.0  3976.0  3928.0  3956.0  3904.0  4066.0     10.0      9.0   \n",
       "10  4089.0  4096.0  4098.0  4104.0  4108.0  4104.0  4098.0      9.0      9.0   \n",
       "20  3924.0  4008.0  4040.0  4048.0  4040.0  4048.0  4004.0     19.0     18.0   \n",
       "28  4544.0  4744.0  4752.0  4736.0  4744.0  4744.0  4731.0     40.0     39.0   \n",
       "\n",
       "    Theta_3  ...  X_road0  X_road1  X_road2          Y  Delta_0  Delta_1  \\\n",
       "5      23.0  ...      3.0      1.0    124.0  -6.843162   -133.0    -16.0   \n",
       "8       8.0  ...      7.0      0.0    127.0   2.724614    247.0     46.0   \n",
       "10      9.0  ...      4.0      0.0    128.0 -52.140009     -7.0     -2.0   \n",
       "20     18.0  ...      3.0      1.0    126.0  -7.159509    -84.0    -32.0   \n",
       "28     39.0  ...      2.0      3.0    149.0  -4.734953   -200.0     -8.0   \n",
       "\n",
       "    Delta_2  Delta_3  Delta_4  Delta_5  \n",
       "5      -8.0      4.0     -4.0     38.0  \n",
       "8      48.0    -28.0     52.0   -162.0  \n",
       "10     -6.0     -4.0      4.0      6.0  \n",
       "20     -8.0      8.0     -8.0     44.0  \n",
       "28     16.0     -8.0      0.0     13.0  \n",
       "\n",
       "[5 rows x 57 columns]"
      ]
     },
     "execution_count": 52,
     "metadata": {},
     "output_type": "execute_result"
    }
   ],
   "source": [
    "#Adding Delta Phi\n",
    "phi_final=pd.DataFrame()\n",
    "for i in range(len(phi)-1):\n",
    "    #print(phi.loc[phi_col[i]])\n",
    "    a=np.array(phi.loc[phi_col[i]])-np.array(phi.loc[phi_col[i+1]])\n",
    "    df3[\"Delta_\"+str(i)]=a\n",
    "df3.head()"
   ]
  },
  {
   "cell_type": "code",
   "execution_count": 53,
   "metadata": {},
   "outputs": [
    {
     "data": {
      "text/html": [
       "<div>\n",
       "<style scoped>\n",
       "    .dataframe tbody tr th:only-of-type {\n",
       "        vertical-align: middle;\n",
       "    }\n",
       "\n",
       "    .dataframe tbody tr th {\n",
       "        vertical-align: top;\n",
       "    }\n",
       "\n",
       "    .dataframe thead th {\n",
       "        text-align: right;\n",
       "    }\n",
       "</style>\n",
       "<table border=\"1\" class=\"dataframe\">\n",
       "  <thead>\n",
       "    <tr style=\"text-align: right;\">\n",
       "      <th></th>\n",
       "      <th>Phi_0</th>\n",
       "      <th>Phi_2</th>\n",
       "      <th>Phi_3</th>\n",
       "      <th>Phi_4</th>\n",
       "      <th>Phi_7</th>\n",
       "      <th>Phi_8</th>\n",
       "      <th>Phi_10</th>\n",
       "      <th>Theta_0</th>\n",
       "      <th>Theta_2</th>\n",
       "      <th>Theta_3</th>\n",
       "      <th>...</th>\n",
       "      <th>X_road0</th>\n",
       "      <th>X_road1</th>\n",
       "      <th>X_road2</th>\n",
       "      <th>Y</th>\n",
       "      <th>Delta_0</th>\n",
       "      <th>Delta_1</th>\n",
       "      <th>Delta_2</th>\n",
       "      <th>Delta_3</th>\n",
       "      <th>Delta_4</th>\n",
       "      <th>Delta_5</th>\n",
       "    </tr>\n",
       "  </thead>\n",
       "  <tbody>\n",
       "    <tr>\n",
       "      <th>count</th>\n",
       "      <td>712329.000000</td>\n",
       "      <td>712329.000000</td>\n",
       "      <td>712329.000000</td>\n",
       "      <td>712329.000000</td>\n",
       "      <td>712329.000000</td>\n",
       "      <td>712329.000000</td>\n",
       "      <td>712329.000000</td>\n",
       "      <td>712329.000000</td>\n",
       "      <td>712329.000000</td>\n",
       "      <td>712329.000000</td>\n",
       "      <td>...</td>\n",
       "      <td>712329.000000</td>\n",
       "      <td>712329.000000</td>\n",
       "      <td>712329.000000</td>\n",
       "      <td>712329.000000</td>\n",
       "      <td>712329.000000</td>\n",
       "      <td>712329.000000</td>\n",
       "      <td>712329.000000</td>\n",
       "      <td>712329.000000</td>\n",
       "      <td>712329.000000</td>\n",
       "      <td>712329.000000</td>\n",
       "    </tr>\n",
       "    <tr>\n",
       "      <th>mean</th>\n",
       "      <td>2911.141113</td>\n",
       "      <td>2911.782715</td>\n",
       "      <td>2912.076172</td>\n",
       "      <td>2912.419189</td>\n",
       "      <td>2912.235596</td>\n",
       "      <td>2912.660156</td>\n",
       "      <td>2911.498291</td>\n",
       "      <td>19.489714</td>\n",
       "      <td>18.560083</td>\n",
       "      <td>18.306213</td>\n",
       "      <td>...</td>\n",
       "      <td>3.969208</td>\n",
       "      <td>0.893910</td>\n",
       "      <td>91.187546</td>\n",
       "      <td>-0.114751</td>\n",
       "      <td>-0.641428</td>\n",
       "      <td>-0.292406</td>\n",
       "      <td>-0.343729</td>\n",
       "      <td>0.183800</td>\n",
       "      <td>-0.424124</td>\n",
       "      <td>1.161493</td>\n",
       "    </tr>\n",
       "    <tr>\n",
       "      <th>std</th>\n",
       "      <td>1063.791748</td>\n",
       "      <td>1066.394531</td>\n",
       "      <td>1067.765503</td>\n",
       "      <td>1066.645752</td>\n",
       "      <td>1067.305054</td>\n",
       "      <td>1066.362549</td>\n",
       "      <td>1065.160645</td>\n",
       "      <td>9.556087</td>\n",
       "      <td>9.222220</td>\n",
       "      <td>9.160045</td>\n",
       "      <td>...</td>\n",
       "      <td>1.863050</td>\n",
       "      <td>0.993329</td>\n",
       "      <td>33.246265</td>\n",
       "      <td>113.183658</td>\n",
       "      <td>188.212158</td>\n",
       "      <td>32.296497</td>\n",
       "      <td>34.168011</td>\n",
       "      <td>23.989052</td>\n",
       "      <td>35.614395</td>\n",
       "      <td>69.582802</td>\n",
       "    </tr>\n",
       "    <tr>\n",
       "      <th>min</th>\n",
       "      <td>678.000000</td>\n",
       "      <td>144.000000</td>\n",
       "      <td>160.000000</td>\n",
       "      <td>160.000000</td>\n",
       "      <td>156.000000</td>\n",
       "      <td>156.000000</td>\n",
       "      <td>164.000000</td>\n",
       "      <td>5.000000</td>\n",
       "      <td>5.000000</td>\n",
       "      <td>5.000000</td>\n",
       "      <td>...</td>\n",
       "      <td>0.000000</td>\n",
       "      <td>0.000000</td>\n",
       "      <td>8.000000</td>\n",
       "      <td>-6812.746271</td>\n",
       "      <td>-633.000000</td>\n",
       "      <td>-302.000000</td>\n",
       "      <td>-453.000000</td>\n",
       "      <td>-387.000000</td>\n",
       "      <td>-440.000000</td>\n",
       "      <td>-596.000000</td>\n",
       "    </tr>\n",
       "    <tr>\n",
       "      <th>25%</th>\n",
       "      <td>2024.000000</td>\n",
       "      <td>2022.000000</td>\n",
       "      <td>2024.000000</td>\n",
       "      <td>2024.000000</td>\n",
       "      <td>2020.000000</td>\n",
       "      <td>2024.000000</td>\n",
       "      <td>2020.000000</td>\n",
       "      <td>12.000000</td>\n",
       "      <td>11.000000</td>\n",
       "      <td>11.000000</td>\n",
       "      <td>...</td>\n",
       "      <td>3.000000</td>\n",
       "      <td>0.000000</td>\n",
       "      <td>63.000000</td>\n",
       "      <td>-4.833131</td>\n",
       "      <td>-130.000000</td>\n",
       "      <td>-16.000000</td>\n",
       "      <td>-8.000000</td>\n",
       "      <td>-8.000000</td>\n",
       "      <td>-8.000000</td>\n",
       "      <td>-28.000000</td>\n",
       "    </tr>\n",
       "    <tr>\n",
       "      <th>50%</th>\n",
       "      <td>2894.000000</td>\n",
       "      <td>2896.000000</td>\n",
       "      <td>2896.000000</td>\n",
       "      <td>2896.000000</td>\n",
       "      <td>2896.000000</td>\n",
       "      <td>2896.000000</td>\n",
       "      <td>2895.000000</td>\n",
       "      <td>19.000000</td>\n",
       "      <td>18.000000</td>\n",
       "      <td>18.000000</td>\n",
       "      <td>...</td>\n",
       "      <td>4.000000</td>\n",
       "      <td>1.000000</td>\n",
       "      <td>91.000000</td>\n",
       "      <td>-2.044194</td>\n",
       "      <td>-2.000000</td>\n",
       "      <td>0.000000</td>\n",
       "      <td>0.000000</td>\n",
       "      <td>0.000000</td>\n",
       "      <td>0.000000</td>\n",
       "      <td>0.000000</td>\n",
       "    </tr>\n",
       "    <tr>\n",
       "      <th>75%</th>\n",
       "      <td>3795.000000</td>\n",
       "      <td>3782.000000</td>\n",
       "      <td>3778.000000</td>\n",
       "      <td>3782.000000</td>\n",
       "      <td>3780.000000</td>\n",
       "      <td>3780.000000</td>\n",
       "      <td>3780.000000</td>\n",
       "      <td>25.000000</td>\n",
       "      <td>23.000000</td>\n",
       "      <td>23.000000</td>\n",
       "      <td>...</td>\n",
       "      <td>5.000000</td>\n",
       "      <td>1.000000</td>\n",
       "      <td>118.000000</td>\n",
       "      <td>4.685856</td>\n",
       "      <td>130.000000</td>\n",
       "      <td>16.000000</td>\n",
       "      <td>8.000000</td>\n",
       "      <td>8.000000</td>\n",
       "      <td>8.000000</td>\n",
       "      <td>30.000000</td>\n",
       "    </tr>\n",
       "    <tr>\n",
       "      <th>max</th>\n",
       "      <td>4954.000000</td>\n",
       "      <td>4954.000000</td>\n",
       "      <td>4944.000000</td>\n",
       "      <td>4938.000000</td>\n",
       "      <td>4916.000000</td>\n",
       "      <td>4916.000000</td>\n",
       "      <td>4943.000000</td>\n",
       "      <td>53.000000</td>\n",
       "      <td>49.000000</td>\n",
       "      <td>51.000000</td>\n",
       "      <td>...</td>\n",
       "      <td>8.000000</td>\n",
       "      <td>4.000000</td>\n",
       "      <td>154.000000</td>\n",
       "      <td>6773.725270</td>\n",
       "      <td>648.000000</td>\n",
       "      <td>307.000000</td>\n",
       "      <td>412.000000</td>\n",
       "      <td>319.000000</td>\n",
       "      <td>440.000000</td>\n",
       "      <td>604.000000</td>\n",
       "    </tr>\n",
       "  </tbody>\n",
       "</table>\n",
       "<p>8 rows × 57 columns</p>\n",
       "</div>"
      ],
      "text/plain": [
       "               Phi_0          Phi_2          Phi_3          Phi_4  \\\n",
       "count  712329.000000  712329.000000  712329.000000  712329.000000   \n",
       "mean     2911.141113    2911.782715    2912.076172    2912.419189   \n",
       "std      1063.791748    1066.394531    1067.765503    1066.645752   \n",
       "min       678.000000     144.000000     160.000000     160.000000   \n",
       "25%      2024.000000    2022.000000    2024.000000    2024.000000   \n",
       "50%      2894.000000    2896.000000    2896.000000    2896.000000   \n",
       "75%      3795.000000    3782.000000    3778.000000    3782.000000   \n",
       "max      4954.000000    4954.000000    4944.000000    4938.000000   \n",
       "\n",
       "               Phi_7          Phi_8         Phi_10        Theta_0  \\\n",
       "count  712329.000000  712329.000000  712329.000000  712329.000000   \n",
       "mean     2912.235596    2912.660156    2911.498291      19.489714   \n",
       "std      1067.305054    1066.362549    1065.160645       9.556087   \n",
       "min       156.000000     156.000000     164.000000       5.000000   \n",
       "25%      2020.000000    2024.000000    2020.000000      12.000000   \n",
       "50%      2896.000000    2896.000000    2895.000000      19.000000   \n",
       "75%      3780.000000    3780.000000    3780.000000      25.000000   \n",
       "max      4916.000000    4916.000000    4943.000000      53.000000   \n",
       "\n",
       "             Theta_2        Theta_3  ...        X_road0        X_road1  \\\n",
       "count  712329.000000  712329.000000  ...  712329.000000  712329.000000   \n",
       "mean       18.560083      18.306213  ...       3.969208       0.893910   \n",
       "std         9.222220       9.160045  ...       1.863050       0.993329   \n",
       "min         5.000000       5.000000  ...       0.000000       0.000000   \n",
       "25%        11.000000      11.000000  ...       3.000000       0.000000   \n",
       "50%        18.000000      18.000000  ...       4.000000       1.000000   \n",
       "75%        23.000000      23.000000  ...       5.000000       1.000000   \n",
       "max        49.000000      51.000000  ...       8.000000       4.000000   \n",
       "\n",
       "             X_road2              Y        Delta_0        Delta_1  \\\n",
       "count  712329.000000  712329.000000  712329.000000  712329.000000   \n",
       "mean       91.187546      -0.114751      -0.641428      -0.292406   \n",
       "std        33.246265     113.183658     188.212158      32.296497   \n",
       "min         8.000000   -6812.746271    -633.000000    -302.000000   \n",
       "25%        63.000000      -4.833131    -130.000000     -16.000000   \n",
       "50%        91.000000      -2.044194      -2.000000       0.000000   \n",
       "75%       118.000000       4.685856     130.000000      16.000000   \n",
       "max       154.000000    6773.725270     648.000000     307.000000   \n",
       "\n",
       "             Delta_2        Delta_3        Delta_4        Delta_5  \n",
       "count  712329.000000  712329.000000  712329.000000  712329.000000  \n",
       "mean       -0.343729       0.183800      -0.424124       1.161493  \n",
       "std        34.168011      23.989052      35.614395      69.582802  \n",
       "min      -453.000000    -387.000000    -440.000000    -596.000000  \n",
       "25%        -8.000000      -8.000000      -8.000000     -28.000000  \n",
       "50%         0.000000       0.000000       0.000000       0.000000  \n",
       "75%         8.000000       8.000000       8.000000      30.000000  \n",
       "max       412.000000     319.000000     440.000000     604.000000  \n",
       "\n",
       "[8 rows x 57 columns]"
      ]
     },
     "execution_count": 53,
     "metadata": {},
     "output_type": "execute_result"
    }
   ],
   "source": [
    "df3.describe()"
   ]
  },
  {
   "cell_type": "code",
   "execution_count": 54,
   "metadata": {},
   "outputs": [
    {
     "data": {
      "text/html": [
       "<div>\n",
       "<style scoped>\n",
       "    .dataframe tbody tr th:only-of-type {\n",
       "        vertical-align: middle;\n",
       "    }\n",
       "\n",
       "    .dataframe tbody tr th {\n",
       "        vertical-align: top;\n",
       "    }\n",
       "\n",
       "    .dataframe thead th {\n",
       "        text-align: right;\n",
       "    }\n",
       "</style>\n",
       "<table border=\"1\" class=\"dataframe\">\n",
       "  <thead>\n",
       "    <tr style=\"text-align: right;\">\n",
       "      <th></th>\n",
       "      <th>Phi_0</th>\n",
       "      <th>Phi_2</th>\n",
       "      <th>Phi_3</th>\n",
       "      <th>Phi_4</th>\n",
       "      <th>Phi_7</th>\n",
       "      <th>Phi_8</th>\n",
       "      <th>Phi_10</th>\n",
       "      <th>Theta_0</th>\n",
       "      <th>Theta_2</th>\n",
       "      <th>Theta_3</th>\n",
       "      <th>...</th>\n",
       "      <th>Delta_2</th>\n",
       "      <th>Delta_3</th>\n",
       "      <th>Delta_4</th>\n",
       "      <th>Delta_5</th>\n",
       "      <th>Delta_theta_0</th>\n",
       "      <th>Delta_theta_1</th>\n",
       "      <th>Delta_theta_2</th>\n",
       "      <th>Delta_theta_3</th>\n",
       "      <th>Delta_theta_4</th>\n",
       "      <th>Delta_theta_5</th>\n",
       "    </tr>\n",
       "  </thead>\n",
       "  <tbody>\n",
       "    <tr>\n",
       "      <th>5</th>\n",
       "      <td>3875.0</td>\n",
       "      <td>4008.0</td>\n",
       "      <td>4024.0</td>\n",
       "      <td>4032.0</td>\n",
       "      <td>4028.0</td>\n",
       "      <td>4032.0</td>\n",
       "      <td>3994.0</td>\n",
       "      <td>23.0</td>\n",
       "      <td>24.0</td>\n",
       "      <td>23.0</td>\n",
       "      <td>...</td>\n",
       "      <td>-8.0</td>\n",
       "      <td>4.0</td>\n",
       "      <td>-4.0</td>\n",
       "      <td>38.0</td>\n",
       "      <td>-1.0</td>\n",
       "      <td>1.0</td>\n",
       "      <td>-1.0</td>\n",
       "      <td>0.0</td>\n",
       "      <td>0.0</td>\n",
       "      <td>0.0</td>\n",
       "    </tr>\n",
       "    <tr>\n",
       "      <th>8</th>\n",
       "      <td>4269.0</td>\n",
       "      <td>4022.0</td>\n",
       "      <td>3976.0</td>\n",
       "      <td>3928.0</td>\n",
       "      <td>3956.0</td>\n",
       "      <td>3904.0</td>\n",
       "      <td>4066.0</td>\n",
       "      <td>10.0</td>\n",
       "      <td>9.0</td>\n",
       "      <td>8.0</td>\n",
       "      <td>...</td>\n",
       "      <td>48.0</td>\n",
       "      <td>-28.0</td>\n",
       "      <td>52.0</td>\n",
       "      <td>-162.0</td>\n",
       "      <td>1.0</td>\n",
       "      <td>1.0</td>\n",
       "      <td>0.0</td>\n",
       "      <td>4.0</td>\n",
       "      <td>-4.0</td>\n",
       "      <td>1.0</td>\n",
       "    </tr>\n",
       "    <tr>\n",
       "      <th>10</th>\n",
       "      <td>4089.0</td>\n",
       "      <td>4096.0</td>\n",
       "      <td>4098.0</td>\n",
       "      <td>4104.0</td>\n",
       "      <td>4108.0</td>\n",
       "      <td>4104.0</td>\n",
       "      <td>4098.0</td>\n",
       "      <td>9.0</td>\n",
       "      <td>9.0</td>\n",
       "      <td>9.0</td>\n",
       "      <td>...</td>\n",
       "      <td>-6.0</td>\n",
       "      <td>-4.0</td>\n",
       "      <td>4.0</td>\n",
       "      <td>6.0</td>\n",
       "      <td>0.0</td>\n",
       "      <td>0.0</td>\n",
       "      <td>0.0</td>\n",
       "      <td>-3.0</td>\n",
       "      <td>4.0</td>\n",
       "      <td>1.0</td>\n",
       "    </tr>\n",
       "    <tr>\n",
       "      <th>20</th>\n",
       "      <td>3924.0</td>\n",
       "      <td>4008.0</td>\n",
       "      <td>4040.0</td>\n",
       "      <td>4048.0</td>\n",
       "      <td>4040.0</td>\n",
       "      <td>4048.0</td>\n",
       "      <td>4004.0</td>\n",
       "      <td>19.0</td>\n",
       "      <td>18.0</td>\n",
       "      <td>18.0</td>\n",
       "      <td>...</td>\n",
       "      <td>-8.0</td>\n",
       "      <td>8.0</td>\n",
       "      <td>-8.0</td>\n",
       "      <td>44.0</td>\n",
       "      <td>1.0</td>\n",
       "      <td>0.0</td>\n",
       "      <td>0.0</td>\n",
       "      <td>-2.0</td>\n",
       "      <td>4.0</td>\n",
       "      <td>-3.0</td>\n",
       "    </tr>\n",
       "    <tr>\n",
       "      <th>28</th>\n",
       "      <td>4544.0</td>\n",
       "      <td>4744.0</td>\n",
       "      <td>4752.0</td>\n",
       "      <td>4736.0</td>\n",
       "      <td>4744.0</td>\n",
       "      <td>4744.0</td>\n",
       "      <td>4731.0</td>\n",
       "      <td>40.0</td>\n",
       "      <td>39.0</td>\n",
       "      <td>39.0</td>\n",
       "      <td>...</td>\n",
       "      <td>16.0</td>\n",
       "      <td>-8.0</td>\n",
       "      <td>0.0</td>\n",
       "      <td>13.0</td>\n",
       "      <td>1.0</td>\n",
       "      <td>0.0</td>\n",
       "      <td>-1.0</td>\n",
       "      <td>0.0</td>\n",
       "      <td>-4.0</td>\n",
       "      <td>4.0</td>\n",
       "    </tr>\n",
       "  </tbody>\n",
       "</table>\n",
       "<p>5 rows × 63 columns</p>\n",
       "</div>"
      ],
      "text/plain": [
       "     Phi_0   Phi_2   Phi_3   Phi_4   Phi_7   Phi_8  Phi_10  Theta_0  Theta_2  \\\n",
       "5   3875.0  4008.0  4024.0  4032.0  4028.0  4032.0  3994.0     23.0     24.0   \n",
       "8   4269.0  4022.0  3976.0  3928.0  3956.0  3904.0  4066.0     10.0      9.0   \n",
       "10  4089.0  4096.0  4098.0  4104.0  4108.0  4104.0  4098.0      9.0      9.0   \n",
       "20  3924.0  4008.0  4040.0  4048.0  4040.0  4048.0  4004.0     19.0     18.0   \n",
       "28  4544.0  4744.0  4752.0  4736.0  4744.0  4744.0  4731.0     40.0     39.0   \n",
       "\n",
       "    Theta_3  ...  Delta_2  Delta_3  Delta_4  Delta_5  Delta_theta_0  \\\n",
       "5      23.0  ...     -8.0      4.0     -4.0     38.0           -1.0   \n",
       "8       8.0  ...     48.0    -28.0     52.0   -162.0            1.0   \n",
       "10      9.0  ...     -6.0     -4.0      4.0      6.0            0.0   \n",
       "20     18.0  ...     -8.0      8.0     -8.0     44.0            1.0   \n",
       "28     39.0  ...     16.0     -8.0      0.0     13.0            1.0   \n",
       "\n",
       "    Delta_theta_1  Delta_theta_2  Delta_theta_3  Delta_theta_4  Delta_theta_5  \n",
       "5             1.0           -1.0            0.0            0.0            0.0  \n",
       "8             1.0            0.0            4.0           -4.0            1.0  \n",
       "10            0.0            0.0           -3.0            4.0            1.0  \n",
       "20            0.0            0.0           -2.0            4.0           -3.0  \n",
       "28            0.0           -1.0            0.0           -4.0            4.0  \n",
       "\n",
       "[5 rows x 63 columns]"
      ]
     },
     "execution_count": 54,
     "metadata": {},
     "output_type": "execute_result"
    }
   ],
   "source": [
    "# Adding Delta Theta\n",
    "theta_col = [col for col in df3 if col.startswith('Theta_')]\n",
    "theta=df3[theta_col].T\n",
    "theta_final=pd.DataFrame()\n",
    "for i in range(len(theta)-1):\n",
    "    #print(phi.loc[phi_col[i]])\n",
    "    a=np.array(theta.loc[theta_col[i]])-np.array(theta.loc[theta_col[i+1]])\n",
    "    df3[\"Delta_theta_\"+str(i)]=a\n",
    "df3.head()"
   ]
  },
  {
   "cell_type": "code",
   "execution_count": 55,
   "metadata": {},
   "outputs": [
    {
     "data": {
      "text/html": [
       "<div>\n",
       "<style scoped>\n",
       "    .dataframe tbody tr th:only-of-type {\n",
       "        vertical-align: middle;\n",
       "    }\n",
       "\n",
       "    .dataframe tbody tr th {\n",
       "        vertical-align: top;\n",
       "    }\n",
       "\n",
       "    .dataframe thead th {\n",
       "        text-align: right;\n",
       "    }\n",
       "</style>\n",
       "<table border=\"1\" class=\"dataframe\">\n",
       "  <thead>\n",
       "    <tr style=\"text-align: right;\">\n",
       "      <th></th>\n",
       "      <th>Bending_Angle0</th>\n",
       "      <th>Bending_Angle2</th>\n",
       "      <th>Bending_Angle3</th>\n",
       "      <th>Bending_Angle4</th>\n",
       "      <th>Bending_Angle7</th>\n",
       "      <th>Bending_Angle8</th>\n",
       "      <th>Bending_Angle10</th>\n",
       "    </tr>\n",
       "  </thead>\n",
       "  <tbody>\n",
       "    <tr>\n",
       "      <th>count</th>\n",
       "      <td>712329.000000</td>\n",
       "      <td>712329.000000</td>\n",
       "      <td>712329.000000</td>\n",
       "      <td>712329.000000</td>\n",
       "      <td>712329.0</td>\n",
       "      <td>712329.0</td>\n",
       "      <td>712329.000000</td>\n",
       "    </tr>\n",
       "    <tr>\n",
       "      <th>mean</th>\n",
       "      <td>0.115439</td>\n",
       "      <td>0.005600</td>\n",
       "      <td>0.002608</td>\n",
       "      <td>0.001675</td>\n",
       "      <td>0.0</td>\n",
       "      <td>0.0</td>\n",
       "      <td>0.003088</td>\n",
       "    </tr>\n",
       "    <tr>\n",
       "      <th>std</th>\n",
       "      <td>14.949262</td>\n",
       "      <td>0.283622</td>\n",
       "      <td>0.253603</td>\n",
       "      <td>0.266299</td>\n",
       "      <td>0.0</td>\n",
       "      <td>0.0</td>\n",
       "      <td>0.610007</td>\n",
       "    </tr>\n",
       "    <tr>\n",
       "      <th>min</th>\n",
       "      <td>-132.910263</td>\n",
       "      <td>-1.000000</td>\n",
       "      <td>-1.000000</td>\n",
       "      <td>-1.000000</td>\n",
       "      <td>0.0</td>\n",
       "      <td>0.0</td>\n",
       "      <td>-2.000000</td>\n",
       "    </tr>\n",
       "    <tr>\n",
       "      <th>25%</th>\n",
       "      <td>-11.000000</td>\n",
       "      <td>0.000000</td>\n",
       "      <td>0.000000</td>\n",
       "      <td>0.000000</td>\n",
       "      <td>0.0</td>\n",
       "      <td>0.0</td>\n",
       "      <td>0.000000</td>\n",
       "    </tr>\n",
       "    <tr>\n",
       "      <th>50%</th>\n",
       "      <td>0.000000</td>\n",
       "      <td>0.000000</td>\n",
       "      <td>0.000000</td>\n",
       "      <td>0.000000</td>\n",
       "      <td>0.0</td>\n",
       "      <td>0.0</td>\n",
       "      <td>0.000000</td>\n",
       "    </tr>\n",
       "    <tr>\n",
       "      <th>75%</th>\n",
       "      <td>11.000000</td>\n",
       "      <td>0.000000</td>\n",
       "      <td>0.000000</td>\n",
       "      <td>0.000000</td>\n",
       "      <td>0.0</td>\n",
       "      <td>0.0</td>\n",
       "      <td>0.000000</td>\n",
       "    </tr>\n",
       "    <tr>\n",
       "      <th>max</th>\n",
       "      <td>142.140137</td>\n",
       "      <td>1.000000</td>\n",
       "      <td>1.000000</td>\n",
       "      <td>1.000000</td>\n",
       "      <td>0.0</td>\n",
       "      <td>0.0</td>\n",
       "      <td>2.000000</td>\n",
       "    </tr>\n",
       "  </tbody>\n",
       "</table>\n",
       "</div>"
      ],
      "text/plain": [
       "       Bending_Angle0  Bending_Angle2  Bending_Angle3  Bending_Angle4  \\\n",
       "count   712329.000000   712329.000000   712329.000000   712329.000000   \n",
       "mean         0.115439        0.005600        0.002608        0.001675   \n",
       "std         14.949262        0.283622        0.253603        0.266299   \n",
       "min       -132.910263       -1.000000       -1.000000       -1.000000   \n",
       "25%        -11.000000        0.000000        0.000000        0.000000   \n",
       "50%          0.000000        0.000000        0.000000        0.000000   \n",
       "75%         11.000000        0.000000        0.000000        0.000000   \n",
       "max        142.140137        1.000000        1.000000        1.000000   \n",
       "\n",
       "       Bending_Angle7  Bending_Angle8  Bending_Angle10  \n",
       "count        712329.0        712329.0    712329.000000  \n",
       "mean              0.0             0.0         0.003088  \n",
       "std               0.0             0.0         0.610007  \n",
       "min               0.0             0.0        -2.000000  \n",
       "25%               0.0             0.0         0.000000  \n",
       "50%               0.0             0.0         0.000000  \n",
       "75%               0.0             0.0         0.000000  \n",
       "max               0.0             0.0         2.000000  "
      ]
     },
     "execution_count": 55,
     "metadata": {},
     "output_type": "execute_result"
    }
   ],
   "source": [
    "bend_col = [col for col in df3 if col.startswith('Bending_Angle')]\n",
    "df3[bend_col].describe()"
   ]
  },
  {
   "cell_type": "code",
   "execution_count": 56,
   "metadata": {},
   "outputs": [
    {
     "name": "stdout",
     "output_type": "stream",
     "text": [
      "['Phi_0', 'Phi_2', 'Phi_3', 'Phi_4', 'Phi_7', 'Phi_8', 'Phi_10']\n"
     ]
    }
   ],
   "source": [
    "print(phi_col)\n",
    "df3.drop(phi_col,inplace=True,axis=1)\n",
    "df3.drop(theta_col,inplace=True,axis=1)"
   ]
  },
  {
   "cell_type": "code",
   "execution_count": 57,
   "metadata": {},
   "outputs": [
    {
     "data": {
      "text/plain": [
       "0"
      ]
     },
     "execution_count": 57,
     "metadata": {},
     "output_type": "execute_result"
    }
   ],
   "source": [
    "df3.isnull().sum().sum()"
   ]
  },
  {
   "cell_type": "code",
   "execution_count": 58,
   "metadata": {
    "scrolled": true
   },
   "outputs": [
    {
     "name": "stdout",
     "output_type": "stream",
     "text": [
      "6773.725270317757\n",
      "-6812.746271053797\n"
     ]
    },
    {
     "data": {
      "image/png": "[encoded data removed]",
      "text/plain": [
       "<Figure size 432x288 with 1 Axes>"
      ]
     },
     "metadata": {
      "needs_background": "light"
     },
     "output_type": "display_data"
    }
   ],
   "source": [
    "print(max(df3[\"Y\"]))\n",
    "print(min(df3[\"Y\"]))\n",
    "hist=df3[\"Y\"].hist(bins=25)"
   ]
  },
  {
   "cell_type": "code",
   "execution_count": 59,
   "metadata": {},
   "outputs": [
    {
     "data": {
      "text/plain": [
       "{'whiskers': [<matplotlib.lines.Line2D at 0x2e80d36feb8>,\n",
       "  <matplotlib.lines.Line2D at 0x2e80d37b518>],\n",
       " 'caps': [<matplotlib.lines.Line2D at 0x2e80d37b860>,\n",
       "  <matplotlib.lines.Line2D at 0x2e80d37bba8>],\n",
       " 'boxes': [<matplotlib.lines.Line2D at 0x2e80d36fd68>],\n",
       " 'medians': [<matplotlib.lines.Line2D at 0x2e80d37bef0>],\n",
       " 'fliers': [<matplotlib.lines.Line2D at 0x2e80d37bfd0>],\n",
       " 'means': []}"
      ]
     },
     "execution_count": 59,
     "metadata": {},
     "output_type": "execute_result"
    },
    {
     "data": {
      "image/png": "[encoded data removed]",
      "text/plain": [
       "<Figure size 432x288 with 1 Axes>"
      ]
     },
     "metadata": {
      "needs_background": "light"
     },
     "output_type": "display_data"
    }
   ],
   "source": [
    "import matplotlib.pyplot as plt\n",
    "green_diamond = dict(markerfacecolor='g', marker='D')\n",
    "fig1, ax1 = plt.subplots()\n",
    "ax1.set_title('Basic Plot')\n",
    "ax1.boxplot(df3[\"Y\"],flierprops=green_diamond)"
   ]
  },
  {
   "cell_type": "markdown",
   "metadata": {},
   "source": [
    "As we can observe from above plots that the data for higher Pt is very rare and distribution has high kurtosis"
   ]
  },
  {
   "cell_type": "code",
   "execution_count": 60,
   "metadata": {},
   "outputs": [
    {
     "data": {
      "text/plain": [
       "<matplotlib.axes._subplots.AxesSubplot at 0x2e8006e3e80>"
      ]
     },
     "execution_count": 60,
     "metadata": {},
     "output_type": "execute_result"
    },
    {
     "data": {
      "image/png": "[encoded data removed]",
      "text/plain": [
       "<Figure size 432x288 with 1 Axes>"
      ]
     },
     "metadata": {
      "needs_background": "light"
     },
     "output_type": "display_data"
    }
   ],
   "source": [
    "df3[\"Y\"]=df3[\"Y\"].transform(lambda x:abs(x))\n",
    "df4=df3.copy() #for Regression\n",
    "df3[\"Y\"].hist(bins=25)"
   ]
  },
  {
   "cell_type": "markdown",
   "metadata": {},
   "source": [
    "### Making 4 categories of Ranges of Pt of the muons"
   ]
  },
  {
   "cell_type": "code",
   "execution_count": 61,
   "metadata": {},
   "outputs": [
    {
     "data": {
      "text/plain": [
       "5     1\n",
       "8     1\n",
       "10    3\n",
       "20    1\n",
       "28    1\n",
       "Name: Y, dtype: category\n",
       "Categories (4, int64): [1 < 2 < 3 < 4]"
      ]
     },
     "execution_count": 61,
     "metadata": {},
     "output_type": "execute_result"
    }
   ],
   "source": [
    "from keras.utils import np_utils#to_categorical\n",
    "bins=[-1,10,30,100,np.inf]\n",
    "names = [1, 2, 3, 4]\n",
    "coltmp=[\"0\",\"1\",\"2\",\"3\",\"4\"]\n",
    "df3[\"Y\"] = pd.cut(df3[\"Y\"], bins=bins, labels=names)\n",
    "#Y_cat = np_utils.to_categorical(tmp)\n",
    "#Y_cat=pd.DataFrame(Y_cat,columns=coltmp)\n",
    "#Y_cat = pd.DataFrame(tmp)\n",
    "df3[\"Y\"].head()"
   ]
  },
  {
   "cell_type": "code",
   "execution_count": 62,
   "metadata": {},
   "outputs": [
    {
     "data": {
      "text/plain": [
       "<matplotlib.axes._subplots.AxesSubplot at 0x2e81b19b4a8>"
      ]
     },
     "execution_count": 62,
     "metadata": {},
     "output_type": "execute_result"
    },
    {
     "data": {
      "image/png": "[encoded data removed]",
      "text/plain": [
       "<Figure size 432x288 with 1 Axes>"
      ]
     },
     "metadata": {
      "needs_background": "light"
     },
     "output_type": "display_data"
    }
   ],
   "source": [
    "df3[\"Y\"].hist()"
   ]
  },
  {
   "cell_type": "code",
   "execution_count": 63,
   "metadata": {},
   "outputs": [
    {
     "name": "stdout",
     "output_type": "stream",
     "text": [
      "17512\n"
     ]
    }
   ],
   "source": [
    "count=len(df3.loc[df3[\"Y\"]==4])\n",
    "print(count)"
   ]
  },
  {
   "cell_type": "code",
   "execution_count": 64,
   "metadata": {},
   "outputs": [
    {
     "name": "stdout",
     "output_type": "stream",
     "text": [
      "20000 20000 20000\n"
     ]
    }
   ],
   "source": [
    "c1=df3.loc[df3[\"Y\"]==1]\n",
    "c2=df3.loc[df3[\"Y\"]==2]\n",
    "c3=df3.loc[df3[\"Y\"]==3]\n",
    "c4=df3.loc[df3[\"Y\"]==4]\n",
    "c1=c1[:20000]\n",
    "c2=c2[:20000]\n",
    "c3=c3[:20000]\n",
    "print(len(c1),len(c2),len(c3))"
   ]
  },
  {
   "cell_type": "code",
   "execution_count": 65,
   "metadata": {},
   "outputs": [
    {
     "data": {
      "text/html": [
       "<div>\n",
       "<style scoped>\n",
       "    .dataframe tbody tr th:only-of-type {\n",
       "        vertical-align: middle;\n",
       "    }\n",
       "\n",
       "    .dataframe tbody tr th {\n",
       "        vertical-align: top;\n",
       "    }\n",
       "\n",
       "    .dataframe thead th {\n",
       "        text-align: right;\n",
       "    }\n",
       "</style>\n",
       "<table border=\"1\" class=\"dataframe\">\n",
       "  <thead>\n",
       "    <tr style=\"text-align: right;\">\n",
       "      <th></th>\n",
       "      <th>Bending_Angle0</th>\n",
       "      <th>Bending_Angle2</th>\n",
       "      <th>Bending_Angle3</th>\n",
       "      <th>Bending_Angle4</th>\n",
       "      <th>Bending_Angle7</th>\n",
       "      <th>Bending_Angle8</th>\n",
       "      <th>Bending_Angle10</th>\n",
       "      <th>Ring_no0</th>\n",
       "      <th>Ring_no2</th>\n",
       "      <th>Ring_no3</th>\n",
       "      <th>...</th>\n",
       "      <th>Delta_2</th>\n",
       "      <th>Delta_3</th>\n",
       "      <th>Delta_4</th>\n",
       "      <th>Delta_5</th>\n",
       "      <th>Delta_theta_0</th>\n",
       "      <th>Delta_theta_1</th>\n",
       "      <th>Delta_theta_2</th>\n",
       "      <th>Delta_theta_3</th>\n",
       "      <th>Delta_theta_4</th>\n",
       "      <th>Delta_theta_5</th>\n",
       "    </tr>\n",
       "  </thead>\n",
       "  <tbody>\n",
       "    <tr>\n",
       "      <th>5</th>\n",
       "      <td>7.000000</td>\n",
       "      <td>0.0</td>\n",
       "      <td>0.0</td>\n",
       "      <td>0.0</td>\n",
       "      <td>0.0</td>\n",
       "      <td>0.0</td>\n",
       "      <td>0.0</td>\n",
       "      <td>1.0</td>\n",
       "      <td>1.0</td>\n",
       "      <td>1.0</td>\n",
       "      <td>...</td>\n",
       "      <td>-8.0</td>\n",
       "      <td>4.0</td>\n",
       "      <td>-4.0</td>\n",
       "      <td>38.0</td>\n",
       "      <td>-1.0</td>\n",
       "      <td>1.0</td>\n",
       "      <td>-1.0</td>\n",
       "      <td>0.0</td>\n",
       "      <td>0.0</td>\n",
       "      <td>0.0</td>\n",
       "    </tr>\n",
       "    <tr>\n",
       "      <th>8</th>\n",
       "      <td>-16.613783</td>\n",
       "      <td>-1.0</td>\n",
       "      <td>0.0</td>\n",
       "      <td>0.0</td>\n",
       "      <td>0.0</td>\n",
       "      <td>0.0</td>\n",
       "      <td>-1.0</td>\n",
       "      <td>4.0</td>\n",
       "      <td>1.0</td>\n",
       "      <td>1.0</td>\n",
       "      <td>...</td>\n",
       "      <td>48.0</td>\n",
       "      <td>-28.0</td>\n",
       "      <td>52.0</td>\n",
       "      <td>-162.0</td>\n",
       "      <td>1.0</td>\n",
       "      <td>1.0</td>\n",
       "      <td>0.0</td>\n",
       "      <td>4.0</td>\n",
       "      <td>-4.0</td>\n",
       "      <td>1.0</td>\n",
       "    </tr>\n",
       "    <tr>\n",
       "      <th>20</th>\n",
       "      <td>6.000000</td>\n",
       "      <td>0.0</td>\n",
       "      <td>0.0</td>\n",
       "      <td>0.0</td>\n",
       "      <td>0.0</td>\n",
       "      <td>0.0</td>\n",
       "      <td>0.0</td>\n",
       "      <td>1.0</td>\n",
       "      <td>1.0</td>\n",
       "      <td>1.0</td>\n",
       "      <td>...</td>\n",
       "      <td>-8.0</td>\n",
       "      <td>8.0</td>\n",
       "      <td>-8.0</td>\n",
       "      <td>44.0</td>\n",
       "      <td>1.0</td>\n",
       "      <td>0.0</td>\n",
       "      <td>0.0</td>\n",
       "      <td>-2.0</td>\n",
       "      <td>4.0</td>\n",
       "      <td>-3.0</td>\n",
       "    </tr>\n",
       "    <tr>\n",
       "      <th>28</th>\n",
       "      <td>13.000000</td>\n",
       "      <td>0.0</td>\n",
       "      <td>0.0</td>\n",
       "      <td>0.0</td>\n",
       "      <td>0.0</td>\n",
       "      <td>0.0</td>\n",
       "      <td>0.0</td>\n",
       "      <td>1.0</td>\n",
       "      <td>1.0</td>\n",
       "      <td>1.0</td>\n",
       "      <td>...</td>\n",
       "      <td>16.0</td>\n",
       "      <td>-8.0</td>\n",
       "      <td>0.0</td>\n",
       "      <td>13.0</td>\n",
       "      <td>1.0</td>\n",
       "      <td>0.0</td>\n",
       "      <td>-1.0</td>\n",
       "      <td>0.0</td>\n",
       "      <td>-4.0</td>\n",
       "      <td>4.0</td>\n",
       "    </tr>\n",
       "    <tr>\n",
       "      <th>38</th>\n",
       "      <td>-18.000000</td>\n",
       "      <td>0.0</td>\n",
       "      <td>0.0</td>\n",
       "      <td>0.0</td>\n",
       "      <td>0.0</td>\n",
       "      <td>0.0</td>\n",
       "      <td>0.0</td>\n",
       "      <td>1.0</td>\n",
       "      <td>1.0</td>\n",
       "      <td>1.0</td>\n",
       "      <td>...</td>\n",
       "      <td>-40.0</td>\n",
       "      <td>32.0</td>\n",
       "      <td>-40.0</td>\n",
       "      <td>-8.0</td>\n",
       "      <td>1.0</td>\n",
       "      <td>0.0</td>\n",
       "      <td>0.0</td>\n",
       "      <td>-1.0</td>\n",
       "      <td>0.0</td>\n",
       "      <td>0.0</td>\n",
       "    </tr>\n",
       "  </tbody>\n",
       "</table>\n",
       "<p>5 rows × 49 columns</p>\n",
       "</div>"
      ],
      "text/plain": [
       "    Bending_Angle0  Bending_Angle2  Bending_Angle3  Bending_Angle4  \\\n",
       "5         7.000000             0.0             0.0             0.0   \n",
       "8       -16.613783            -1.0             0.0             0.0   \n",
       "20        6.000000             0.0             0.0             0.0   \n",
       "28       13.000000             0.0             0.0             0.0   \n",
       "38      -18.000000             0.0             0.0             0.0   \n",
       "\n",
       "    Bending_Angle7  Bending_Angle8  Bending_Angle10  Ring_no0  Ring_no2  \\\n",
       "5              0.0             0.0              0.0       1.0       1.0   \n",
       "8              0.0             0.0             -1.0       4.0       1.0   \n",
       "20             0.0             0.0              0.0       1.0       1.0   \n",
       "28             0.0             0.0              0.0       1.0       1.0   \n",
       "38             0.0             0.0              0.0       1.0       1.0   \n",
       "\n",
       "    Ring_no3  ...  Delta_2  Delta_3  Delta_4  Delta_5  Delta_theta_0  \\\n",
       "5        1.0  ...     -8.0      4.0     -4.0     38.0           -1.0   \n",
       "8        1.0  ...     48.0    -28.0     52.0   -162.0            1.0   \n",
       "20       1.0  ...     -8.0      8.0     -8.0     44.0            1.0   \n",
       "28       1.0  ...     16.0     -8.0      0.0     13.0            1.0   \n",
       "38       1.0  ...    -40.0     32.0    -40.0     -8.0            1.0   \n",
       "\n",
       "    Delta_theta_1  Delta_theta_2  Delta_theta_3  Delta_theta_4  Delta_theta_5  \n",
       "5             1.0           -1.0            0.0            0.0            0.0  \n",
       "8             1.0            0.0            4.0           -4.0            1.0  \n",
       "20            0.0            0.0           -2.0            4.0           -3.0  \n",
       "28            0.0           -1.0            0.0           -4.0            4.0  \n",
       "38            0.0            0.0           -1.0            0.0            0.0  \n",
       "\n",
       "[5 rows x 49 columns]"
      ]
     },
     "execution_count": 65,
     "metadata": {},
     "output_type": "execute_result"
    }
   ],
   "source": [
    "frames = [c1, c2, c3,c4]\n",
    "result = pd.concat(frames)\n",
    "result.head()"
   ]
  },
  {
   "cell_type": "code",
   "execution_count": 66,
   "metadata": {},
   "outputs": [
    {
     "name": "stdout",
     "output_type": "stream",
     "text": [
      "77512\n",
      "77512\n"
     ]
    }
   ],
   "source": [
    "Y=result[\"Y\"]\n",
    "X=result.drop([\"Y\"],axis=1)\n",
    "print(len(X))\n",
    "print(len(Y))"
   ]
  },
  {
   "cell_type": "code",
   "execution_count": 67,
   "metadata": {},
   "outputs": [],
   "source": [
    "coltmp=[\"0\",\"1\",\"2\",\"3\",\"4\"]\n",
    "Y_cat = np_utils.to_categorical(Y)\n",
    "Y_cat=pd.DataFrame(Y_cat,columns=coltmp)\n",
    "#Y_cat = pd.DataFrame(tmp)"
   ]
  },
  {
   "cell_type": "code",
   "execution_count": 68,
   "metadata": {},
   "outputs": [],
   "source": [
    "Y_cat.drop(columns=[\"0\"],inplace=True)"
   ]
  },
  {
   "cell_type": "code",
   "execution_count": 69,
   "metadata": {},
   "outputs": [
    {
     "data": {
      "text/html": [
       "<div>\n",
       "<style scoped>\n",
       "    .dataframe tbody tr th:only-of-type {\n",
       "        vertical-align: middle;\n",
       "    }\n",
       "\n",
       "    .dataframe tbody tr th {\n",
       "        vertical-align: top;\n",
       "    }\n",
       "\n",
       "    .dataframe thead th {\n",
       "        text-align: right;\n",
       "    }\n",
       "</style>\n",
       "<table border=\"1\" class=\"dataframe\">\n",
       "  <thead>\n",
       "    <tr style=\"text-align: right;\">\n",
       "      <th></th>\n",
       "      <th>1</th>\n",
       "      <th>2</th>\n",
       "      <th>3</th>\n",
       "      <th>4</th>\n",
       "    </tr>\n",
       "  </thead>\n",
       "  <tbody>\n",
       "    <tr>\n",
       "      <th>count</th>\n",
       "      <td>77512.000000</td>\n",
       "      <td>77512.000000</td>\n",
       "      <td>77512.000000</td>\n",
       "      <td>77512.000000</td>\n",
       "    </tr>\n",
       "    <tr>\n",
       "      <th>mean</th>\n",
       "      <td>0.258025</td>\n",
       "      <td>0.258025</td>\n",
       "      <td>0.258025</td>\n",
       "      <td>0.225926</td>\n",
       "    </tr>\n",
       "    <tr>\n",
       "      <th>std</th>\n",
       "      <td>0.437550</td>\n",
       "      <td>0.437550</td>\n",
       "      <td>0.437550</td>\n",
       "      <td>0.418194</td>\n",
       "    </tr>\n",
       "    <tr>\n",
       "      <th>min</th>\n",
       "      <td>0.000000</td>\n",
       "      <td>0.000000</td>\n",
       "      <td>0.000000</td>\n",
       "      <td>0.000000</td>\n",
       "    </tr>\n",
       "    <tr>\n",
       "      <th>25%</th>\n",
       "      <td>0.000000</td>\n",
       "      <td>0.000000</td>\n",
       "      <td>0.000000</td>\n",
       "      <td>0.000000</td>\n",
       "    </tr>\n",
       "    <tr>\n",
       "      <th>50%</th>\n",
       "      <td>0.000000</td>\n",
       "      <td>0.000000</td>\n",
       "      <td>0.000000</td>\n",
       "      <td>0.000000</td>\n",
       "    </tr>\n",
       "    <tr>\n",
       "      <th>75%</th>\n",
       "      <td>1.000000</td>\n",
       "      <td>1.000000</td>\n",
       "      <td>1.000000</td>\n",
       "      <td>0.000000</td>\n",
       "    </tr>\n",
       "    <tr>\n",
       "      <th>max</th>\n",
       "      <td>1.000000</td>\n",
       "      <td>1.000000</td>\n",
       "      <td>1.000000</td>\n",
       "      <td>1.000000</td>\n",
       "    </tr>\n",
       "  </tbody>\n",
       "</table>\n",
       "</div>"
      ],
      "text/plain": [
       "                  1             2             3             4\n",
       "count  77512.000000  77512.000000  77512.000000  77512.000000\n",
       "mean       0.258025      0.258025      0.258025      0.225926\n",
       "std        0.437550      0.437550      0.437550      0.418194\n",
       "min        0.000000      0.000000      0.000000      0.000000\n",
       "25%        0.000000      0.000000      0.000000      0.000000\n",
       "50%        0.000000      0.000000      0.000000      0.000000\n",
       "75%        1.000000      1.000000      1.000000      0.000000\n",
       "max        1.000000      1.000000      1.000000      1.000000"
      ]
     },
     "execution_count": 69,
     "metadata": {},
     "output_type": "execute_result"
    }
   ],
   "source": [
    "Y_cat.describe()"
   ]
  },
  {
   "cell_type": "code",
   "execution_count": 70,
   "metadata": {},
   "outputs": [
    {
     "name": "stdout",
     "output_type": "stream",
     "text": [
      "1 20000.0\n",
      "2 20000.0\n",
      "3 20000.0\n",
      "4 17512.0\n"
     ]
    }
   ],
   "source": [
    "for i in Y_cat.columns:\n",
    "    print(i,sum(Y_cat[i]))"
   ]
  },
  {
   "cell_type": "code",
   "execution_count": 71,
   "metadata": {
    "scrolled": true
   },
   "outputs": [
    {
     "name": "stdout",
     "output_type": "stream",
     "text": [
      "(77512, 48) (77512, 4)\n"
     ]
    }
   ],
   "source": [
    "import matplotlib.pyplot as plt\n",
    "from sklearn.model_selection import train_test_split\n",
    "print(X.shape,Y_cat.shape)\n",
    "X_train, X_test, y_train, y_test = train_test_split(X, Y_cat, test_size=0.25, random_state=1)\n",
    "X_train,X_val, y_train, y_val = train_test_split(X_train, y_train, test_size=0.15, random_state=1)"
   ]
  },
  {
   "cell_type": "code",
   "execution_count": 72,
   "metadata": {},
   "outputs": [],
   "source": [
    "from keras.models import Sequential\n",
    "from keras.layers import Dense\n",
    "from keras.layers import Dropout\n",
    "from keras.optimizers import Adam\n",
    "from keras.utils import np_utils\n",
    "import keras"
   ]
  },
  {
   "cell_type": "markdown",
   "metadata": {},
   "source": [
    "# Classification Model"
   ]
  },
  {
   "cell_type": "code",
   "execution_count": 35,
   "metadata": {},
   "outputs": [],
   "source": [
    "def create_cat_model():\n",
    "    model = Sequential()\n",
    "    model.add(Dense(100, input_dim=len(X.columns), kernel_initializer='random_normal' , activation='relu'))\n",
    "    model.add(Dense(64, activation='relu'))\n",
    "    model.add(Dropout(rate=0.15))\n",
    "    model.add(Dense(20, activation='relu'))\n",
    "    model.add(Dense(4, activation='softmax'))\n",
    "    # Compile model\n",
    "    model.compile(loss='categorical_crossentropy', optimizer='adam', metrics=['accuracy'])\n",
    "\n",
    "    return model"
   ]
  },
  {
   "cell_type": "code",
   "execution_count": null,
   "metadata": {},
   "outputs": [],
   "source": [
    "model1=create_cat_model()\n",
    "# Compile model\n",
    "model1.compile(loss='categorical_crossentropy', optimizer='adam', metrics=['accuracy'])"
   ]
  },
  {
   "cell_type": "code",
   "execution_count": null,
   "metadata": {},
   "outputs": [],
   "source": [
    "# model1.compile(loss=\"categorical_crossentropy\", optimizer=Adam(), metrics=['accuracy'])\n",
    "#model1.compile(loss=\"mae\", optimizer=Adam(), metrics=['mae'])"
   ]
  },
  {
   "cell_type": "code",
   "execution_count": null,
   "metadata": {},
   "outputs": [],
   "source": [
    "history=model1.fit (X_train , y_train,epochs=20,verbose=1, batch_size=256,validation_data=(X_val,y_val))"
   ]
  },
  {
   "cell_type": "code",
   "execution_count": null,
   "metadata": {},
   "outputs": [],
   "source": [
    "print(history.history.keys())"
   ]
  },
  {
   "cell_type": "code",
   "execution_count": null,
   "metadata": {},
   "outputs": [],
   "source": [
    " _, accuracy = model1.evaluate(X_test, y_test, batch_size=5, verbose=0)"
   ]
  },
  {
   "cell_type": "code",
   "execution_count": null,
   "metadata": {
    "scrolled": true
   },
   "outputs": [],
   "source": [
    "print('test loss, test acc:', accuracy)"
   ]
  },
  {
   "cell_type": "code",
   "execution_count": null,
   "metadata": {},
   "outputs": [],
   "source": [
    "plt.plot(history.history['acc'])\n",
    "plt.plot(history.history['loss'])\n",
    "plt.title('model accuracy')\n",
    "plt.ylabel('accuracy')\n",
    "plt.xlabel('epoch')\n",
    "plt.legend(['train', 'test'], loc='upper left')\n",
    "plt.show()"
   ]
  },
  {
   "cell_type": "code",
   "execution_count": null,
   "metadata": {},
   "outputs": [],
   "source": [
    "# X_train_conv = np.reshape(X_train, (X_train.shape[0], 1, X_train.shape[1]))\n",
    "# X_test_conv = np.reshape(X_test, (X_test.shape[0], 1, X_test.shape[1]))\n",
    "# model2.compile(loss='categorical_crossentropy', optimizer='adam', metrics=['accuracy'])\n",
    "# model2.fit(X_train, y_train, epochs=10, batch_size=4, verbose=1,validation_data=(X_val,y_val))"
   ]
  },
  {
   "cell_type": "code",
   "execution_count": null,
   "metadata": {},
   "outputs": [],
   "source": [
    "print('test loss, test acc:', accuracy)"
   ]
  },
  {
   "cell_type": "markdown",
   "metadata": {},
   "source": [
    "# Convolution 1D Classification Model"
   ]
  },
  {
   "cell_type": "code",
   "execution_count": 78,
   "metadata": {},
   "outputs": [
    {
     "name": "stdout",
     "output_type": "stream",
     "text": [
      "(77512, 4)\n"
     ]
    }
   ],
   "source": [
    "import matplotlib.pyplot as plt\n",
    "from sklearn.model_selection import train_test_split\n",
    "print(Y_cat.shape)\n",
    "X_train, X_test, y_train, y_test = train_test_split(X, Y_cat, test_size=0.25, random_state=1)\n",
    "X_train,X_val, y_train, y_val = train_test_split(X_train, y_train, test_size=0.15, random_state=1)"
   ]
  },
  {
   "cell_type": "code",
   "execution_count": 90,
   "metadata": {},
   "outputs": [],
   "source": [
    "from keras.layers import Conv1D, MaxPooling1D,Flatten\n",
    "def create_conv_cat_model():\n",
    "    model = Sequential()\n",
    "    model.add(Conv1D(filters=64, kernel_size=3, activation='relu', input_shape=(len(X.columns),1)))\n",
    "   # model.add(Conv1D(filters=64, kernel_size=3, activation='relu'))\n",
    "    model.add(Dropout(0.5))\n",
    "    model.add(MaxPooling1D(pool_size=2))\n",
    "    model.add(Flatten())\n",
    "    model.add(Dense(70, activation='relu'))\n",
    "    model.add(Dense(4, activation='softmax'))\n",
    "    model.compile(loss='categorical_crossentropy', optimizer='adam', metrics=['accuracy'])\n",
    "    return model"
   ]
  },
  {
   "cell_type": "code",
   "execution_count": 91,
   "metadata": {},
   "outputs": [],
   "source": [
    "X_train=np.array(X_train).reshape(X_train.shape[0],X_train.shape[1],1)\n",
    "X_val=np.array(X_val).reshape(X_val.shape[0],X_val.shape[1],1)"
   ]
  },
  {
   "cell_type": "code",
   "execution_count": 92,
   "metadata": {},
   "outputs": [],
   "source": [
    "model4=create_conv_cat_model()"
   ]
  },
  {
   "cell_type": "code",
   "execution_count": 93,
   "metadata": {},
   "outputs": [
    {
     "name": "stdout",
     "output_type": "stream",
     "text": [
      "(49413, 48, 1) (49413, 4)\n",
      "Train on 49413 samples, validate on 8721 samples\n",
      "Epoch 1/5\n",
      "49413/49413 [==============================] - 123s 2ms/step - loss: 0.7105 - acc: 0.6973 - val_loss: 0.6199 - val_acc: 0.7343\n",
      "Epoch 2/5\n",
      "49413/49413 [==============================] - 108s 2ms/step - loss: 0.6493 - acc: 0.7248 - val_loss: 0.5975 - val_acc: 0.7537\n",
      "Epoch 3/5\n",
      "49413/49413 [==============================] - 94s 2ms/step - loss: 0.6385 - acc: 0.7324 - val_loss: 0.5753 - val_acc: 0.7663\n",
      "Epoch 4/5\n",
      "49413/49413 [==============================] - 108s 2ms/step - loss: 0.6421 - acc: 0.7343 - val_loss: 0.6088 - val_acc: 0.7723\n",
      "Epoch 5/5\n",
      "49413/49413 [==============================] - 107s 2ms/step - loss: 0.6392 - acc: 0.7357 - val_loss: 0.6084 - val_acc: 0.7567\n"
     ]
    }
   ],
   "source": [
    "print(X_train.shape,y_train.shape)\n",
    "history=model4.fit (X_train , y_train, batch_size=1 ,epochs=5, verbose=1, validation_data=(X_val , y_val)) "
   ]
  },
  {
   "cell_type": "code",
   "execution_count": 94,
   "metadata": {},
   "outputs": [
    {
     "name": "stdout",
     "output_type": "stream",
     "text": [
      "dict_keys(['val_loss', 'val_acc', 'loss', 'acc'])\n"
     ]
    }
   ],
   "source": [
    "print(history.history.keys())"
   ]
  },
  {
   "cell_type": "code",
   "execution_count": 95,
   "metadata": {},
   "outputs": [
    {
     "data": {
      "image/png": "[encoded data removed]",
      "text/plain": [
       "<Figure size 432x288 with 1 Axes>"
      ]
     },
     "metadata": {
      "needs_background": "light"
     },
     "output_type": "display_data"
    }
   ],
   "source": [
    "plt.plot(history.history['acc'])\n",
    "plt.plot(history.history['loss'])\n",
    "plt.title('model accuracy')\n",
    "plt.ylabel('accuracy')\n",
    "plt.xlabel('epoch')\n",
    "plt.legend(['train', 'test'], loc='upper left')\n",
    "plt.show()"
   ]
  },
  {
   "cell_type": "markdown",
   "metadata": {},
   "source": [
    "# Regression Model"
   ]
  },
  {
   "cell_type": "code",
   "execution_count": 96,
   "metadata": {},
   "outputs": [],
   "source": [
    "Y_reg=df4[\"Y\"]\n",
    "X_reg=df4.drop([\"Y\"],axis=1)\n",
    "X_train, X_test, y_train, y_test = train_test_split(X_reg, Y_reg, test_size=0.25, random_state=1)\n",
    "X_train,X_val, y_train, y_val = train_test_split(X_train, y_train, test_size=0.15, random_state=1)"
   ]
  },
  {
   "cell_type": "code",
   "execution_count": 97,
   "metadata": {},
   "outputs": [],
   "source": [
    "def create_reg_model():\n",
    "    model = Sequential()\n",
    "    model.add(Dense(100, input_dim=len(X_reg.columns), kernel_initializer='random_normal' , activation='sigmoid'))\n",
    "    model.add(Dense(70, activation='relu'))\n",
    "    model.add(Dense(30, activation='relu'))\n",
    "#     model.add(Dropout(rate=0.15))\n",
    "#     model.add(Dense(10, activation='relu'))\n",
    "    model.add(Dropout(rate=0.15))\n",
    "    model.add(Dense(1,activation=\"linear\"))\n",
    "    model.compile(loss='mae', optimizer='adam', metrics=['mae'])\n",
    "    return model"
   ]
  },
  {
   "cell_type": "code",
   "execution_count": 98,
   "metadata": {},
   "outputs": [],
   "source": [
    "model3=create_reg_model()"
   ]
  },
  {
   "cell_type": "code",
   "execution_count": 100,
   "metadata": {},
   "outputs": [
    {
     "name": "stdout",
     "output_type": "stream",
     "text": [
      "Train on 454109 samples, validate on 80137 samples\n",
      "Epoch 1/5\n",
      "454109/454109 [==============================] - 226s 497us/step - loss: 9.4109 - mean_absolute_error: 9.4109 - val_loss: 9.3473 - val_mean_absolute_error: 9.3473\n",
      "Epoch 2/5\n",
      "454109/454109 [==============================] - 228s 503us/step - loss: 9.3803 - mean_absolute_error: 9.3803 - val_loss: 9.1269 - val_mean_absolute_error: 9.1269\n",
      "Epoch 3/5\n",
      "454109/454109 [==============================] - 103s 227us/step - loss: 9.3724 - mean_absolute_error: 9.3724 - val_loss: 9.0585 - val_mean_absolute_error: 9.0585\n",
      "Epoch 4/5\n",
      "454109/454109 [==============================] - 110s 241us/step - loss: 9.3529 - mean_absolute_error: 9.3529 - val_loss: 9.1056 - val_mean_absolute_error: 9.1056\n",
      "Epoch 5/5\n",
      "454109/454109 [==============================] - 101s 222us/step - loss: 9.3603 - mean_absolute_error: 9.3603 - val_loss: 9.1884 - val_mean_absolute_error: 9.1884\n"
     ]
    }
   ],
   "source": [
    "history=model3.fit (X_train , y_train, batch_size=5 ,epochs=5, verbose=1, validation_data=(X_val , y_val)) "
   ]
  },
  {
   "cell_type": "code",
   "execution_count": 103,
   "metadata": {},
   "outputs": [
    {
     "name": "stdout",
     "output_type": "stream",
     "text": [
      "Error: 9.671674995724318\n"
     ]
    }
   ],
   "source": [
    " _, accuracy = model3.evaluate(X_test, y_test, verbose=0)\n",
    "print('Error:', accuracy)"
   ]
  },
  {
   "cell_type": "code",
   "execution_count": 104,
   "metadata": {},
   "outputs": [
    {
     "name": "stdout",
     "output_type": "stream",
     "text": [
      "dict_keys(['val_loss', 'val_mean_absolute_error', 'loss', 'mean_absolute_error'])\n"
     ]
    }
   ],
   "source": [
    "print(history.history.keys())"
   ]
  },
  {
   "cell_type": "code",
   "execution_count": 105,
   "metadata": {},
   "outputs": [
    {
     "data": {
      "image/png": "[encoded data removed]",
      "text/plain": [
       "<Figure size 432x288 with 1 Axes>"
      ]
     },
     "metadata": {
      "needs_background": "light"
     },
     "output_type": "display_data"
    }
   ],
   "source": [
    "plt.plot(history.history['mean_absolute_error'])\n",
    "plt.plot(history.history['loss'])\n",
    "plt.title('model accuracy')\n",
    "plt.ylabel('accuracy')\n",
    "plt.xlabel('epoch')\n",
    "plt.legend(['train', 'test'], loc='upper left')\n",
    "plt.show()"
   ]
  },
  {
   "cell_type": "markdown",
   "metadata": {},
   "source": [
    "# Convolution 2D Model"
   ]
  },
  {
   "cell_type": "code",
   "execution_count": 106,
   "metadata": {},
   "outputs": [],
   "source": [
    "def conv2d_classifier():\n",
    "    model = Sequential()\n",
    "    model.add(Conv2D(32, (3, 3), activation='relu', kernel_initializer='random_normal', padding='same', input_shape=(200, 200, 3)))\n",
    "    model.add(MaxPooling2D((2, 2)))\n",
    "    model.add(Flatten())\n",
    "    model.add(Dense(128, activation='relu', kernel_initializer='he_uniform'))\n",
    "    model.add(Dense(1, activation='sigmoid'))\n",
    "    # compile model\n",
    "    opt = SGD(lr=0.001, momentum=0.9)\n",
    "    model.compile(optimizer=opt, loss='binary_crossentropy', metrics=['accuracy'])\n",
    "    return model"
   ]
  },
  {
   "cell_type": "markdown",
   "metadata": {},
   "source": [
    "### Using Bending angles as radius of dots"
   ]
  },
  {
   "cell_type": "code",
   "execution_count": 10,
   "metadata": {},
   "outputs": [
    {
     "data": {
      "image/png": "[encoded data removed]",
      "text/plain": [
       "<Figure size 432x288 with 1 Axes>"
      ]
     },
     "metadata": {
      "needs_background": "light"
     },
     "output_type": "display_data"
    },
    {
     "data": {
      "image/png": "[encoded data removed]",
      "text/plain": [
       "<Figure size 432x288 with 1 Axes>"
      ]
     },
     "metadata": {
      "needs_background": "light"
     },
     "output_type": "display_data"
    },
    {
     "data": {
      "image/png": "[encoded data removed]",
      "text/plain": [
       "<Figure size 432x288 with 1 Axes>"
      ]
     },
     "metadata": {
      "needs_background": "light"
     },
     "output_type": "display_data"
    },
    {
     "data": {
      "image/png": "[encoded data removed]",
      "text/plain": [
       "<Figure size 432x288 with 1 Axes>"
      ]
     },
     "metadata": {
      "needs_background": "light"
     },
     "output_type": "display_data"
    },
    {
     "data": {
      "image/png": "[encoded data removed]",
      "text/plain": [
       "<Figure size 432x288 with 1 Axes>"
      ]
     },
     "metadata": {
      "needs_background": "light"
     },
     "output_type": "display_data"
    },
    {
     "data": {
      "image/png": "[encoded data removed]",
      "text/plain": [
       "<Figure size 432x288 with 1 Axes>"
      ]
     },
     "metadata": {
      "needs_background": "light"
     },
     "output_type": "display_data"
    },
    {
     "data": {
      "image/png": "[encoded data removed]",
      "text/plain": [
       "<Figure size 432x288 with 1 Axes>"
      ]
     },
     "metadata": {
      "needs_background": "light"
     },
     "output_type": "display_data"
    },
    {
     "data": {
      "image/png": "[encoded data removed]",
      "text/plain": [
       "<Figure size 432x288 with 1 Axes>"
      ]
     },
     "metadata": {
      "needs_background": "light"
     },
     "output_type": "display_data"
    },
    {
     "data": {
      "image/png": "[encoded data removed]",
      "text/plain": [
       "<Figure size 432x288 with 1 Axes>"
      ]
     },
     "metadata": {
      "needs_background": "light"
     },
     "output_type": "display_data"
    },
    {
     "data": {
      "image/png": "[encoded data removed]",
      "text/plain": [
       "<Figure size 432x288 with 1 Axes>"
      ]
     },
     "metadata": {
      "needs_background": "light"
     },
     "output_type": "display_data"
    },
    {
     "data": {
      "image/png": "[encoded data removed]",
      "text/plain": [
       "<Figure size 432x288 with 1 Axes>"
      ]
     },
     "metadata": {
      "needs_background": "light"
     },
     "output_type": "display_data"
    },
    {
     "data": {
      "image/png": "[encoded data removed]",
      "text/plain": [
       "<Figure size 432x288 with 1 Axes>"
      ]
     },
     "metadata": {
      "needs_background": "light"
     },
     "output_type": "display_data"
    },
    {
     "data": {
      "image/png": "[encoded data removed]",
      "text/plain": [
       "<Figure size 432x288 with 1 Axes>"
      ]
     },
     "metadata": {
      "needs_background": "light"
     },
     "output_type": "display_data"
    },
    {
     "data": {
      "image/png": "[encoded data removed]",
      "text/plain": [
       "<Figure size 432x288 with 1 Axes>"
      ]
     },
     "metadata": {
      "needs_background": "light"
     },
     "output_type": "display_data"
    },
    {
     "data": {
      "image/png": "[encoded data removed]",
      "text/plain": [
       "<Figure size 432x288 with 1 Axes>"
      ]
     },
     "metadata": {
      "needs_background": "light"
     },
     "output_type": "display_data"
    },
    {
     "data": {
      "image/png": "[encoded data removed]",
      "text/plain": [
       "<Figure size 432x288 with 1 Axes>"
      ]
     },
     "metadata": {
      "needs_background": "light"
     },
     "output_type": "display_data"
    },
    {
     "data": {
      "image/png": "[encoded data removed]",
      "text/plain": [
       "<Figure size 432x288 with 1 Axes>"
      ]
     },
     "metadata": {
      "needs_background": "light"
     },
     "output_type": "display_data"
    },
    {
     "data": {
      "image/png": "[encoded data removed]",
      "text/plain": [
       "<Figure size 432x288 with 1 Axes>"
      ]
     },
     "metadata": {
      "needs_background": "light"
     },
     "output_type": "display_data"
    },
    {
     "data": {
      "image/png": "[encoded data removed]",
      "text/plain": [
       "<Figure size 432x288 with 1 Axes>"
      ]
     },
     "metadata": {
      "needs_background": "light"
     },
     "output_type": "display_data"
    },
    {
     "data": {
      "image/png": "[encoded data removed]",
      "text/plain": [
       "<Figure size 432x288 with 1 Axes>"
      ]
     },
     "metadata": {
      "needs_background": "light"
     },
     "output_type": "display_data"
    },
    {
     "data": {
      "image/png": "[encoded data removed]",
      "text/plain": [
       "<Figure size 432x288 with 1 Axes>"
      ]
     },
     "metadata": {
      "needs_background": "light"
     },
     "output_type": "display_data"
    },
    {
     "data": {
      "image/png": "[encoded data removed]",
      "text/plain": [
       "<Figure size 432x288 with 1 Axes>"
      ]
     },
     "metadata": {
      "needs_background": "light"
     },
     "output_type": "display_data"
    },
    {
     "data": {
      "image/png": "[encoded data removed]",
      "text/plain": [
       "<Figure size 432x288 with 1 Axes>"
      ]
     },
     "metadata": {
      "needs_background": "light"
     },
     "output_type": "display_data"
    },
    {
     "data": {
      "image/png": "[encoded data removed]",
      "text/plain": [
       "<Figure size 432x288 with 1 Axes>"
      ]
     },
     "metadata": {
      "needs_background": "light"
     },
     "output_type": "display_data"
    },
    {
     "data": {
      "image/png": "[encoded data removed]",
      "text/plain": [
       "<Figure size 432x288 with 1 Axes>"
      ]
     },
     "metadata": {
      "needs_background": "light"
     },
     "output_type": "display_data"
    },
    {
     "data": {
      "image/png": "[encoded data removed]",
      "text/plain": [
       "<Figure size 432x288 with 1 Axes>"
      ]
     },
     "metadata": {
      "needs_background": "light"
     },
     "output_type": "display_data"
    },
    {
     "data": {
      "image/png": "[encoded data removed]",
      "text/plain": [
       "<Figure size 432x288 with 1 Axes>"
      ]
     },
     "metadata": {
      "needs_background": "light"
     },
     "output_type": "display_data"
    },
    {
     "data": {
      "image/png": "[encoded data removed]",
      "text/plain": [
       "<Figure size 432x288 with 1 Axes>"
      ]
     },
     "metadata": {
      "needs_background": "light"
     },
     "output_type": "display_data"
    },
    {
     "data": {
      "image/png": "[encoded data removed]",
      "text/plain": [
       "<Figure size 432x288 with 1 Axes>"
      ]
     },
     "metadata": {
      "needs_background": "light"
     },
     "output_type": "display_data"
    },
    {
     "data": {
      "image/png": "[encoded data removed]",
      "text/plain": [
       "<Figure size 432x288 with 1 Axes>"
      ]
     },
     "metadata": {
      "needs_background": "light"
     },
     "output_type": "display_data"
    },
    {
     "data": {
      "image/png": "[encoded data removed]",
      "text/plain": [
       "<Figure size 432x288 with 1 Axes>"
      ]
     },
     "metadata": {
      "needs_background": "light"
     },
     "output_type": "display_data"
    },
    {
     "data": {
      "image/png": "[encoded data removed]",
      "text/plain": [
       "<Figure size 432x288 with 1 Axes>"
      ]
     },
     "metadata": {
      "needs_background": "light"
     },
     "output_type": "display_data"
    },
    {
     "data": {
      "image/png": "[encoded data removed]",
      "text/plain": [
       "<Figure size 432x288 with 1 Axes>"
      ]
     },
     "metadata": {
      "needs_background": "light"
     },
     "output_type": "display_data"
    },
    {
     "data": {
      "image/png": "[encoded data removed]",
      "text/plain": [
       "<Figure size 432x288 with 1 Axes>"
      ]
     },
     "metadata": {
      "needs_background": "light"
     },
     "output_type": "display_data"
    },
    {
     "data": {
      "image/png": "[encoded data removed]",
      "text/plain": [
       "<Figure size 432x288 with 1 Axes>"
      ]
     },
     "metadata": {
      "needs_background": "light"
     },
     "output_type": "display_data"
    },
    {
     "data": {
      "image/png": "[encoded data removed]",
      "text/plain": [
       "<Figure size 432x288 with 1 Axes>"
      ]
     },
     "metadata": {
      "needs_background": "light"
     },
     "output_type": "display_data"
    },
    {
     "data": {
      "image/png": "[encoded data removed]",
      "text/plain": [
       "<Figure size 432x288 with 1 Axes>"
      ]
     },
     "metadata": {
      "needs_background": "light"
     },
     "output_type": "display_data"
    },
    {
     "data": {
      "image/png": "[encoded data removed]",
      "text/plain": [
       "<Figure size 432x288 with 1 Axes>"
      ]
     },
     "metadata": {
      "needs_background": "light"
     },
     "output_type": "display_data"
    },
    {
     "data": {
      "image/png": "[encoded data removed]",
      "text/plain": [
       "<Figure size 432x288 with 1 Axes>"
      ]
     },
     "metadata": {
      "needs_background": "light"
     },
     "output_type": "display_data"
    },
    {
     "data": {
      "image/png": "[encoded data removed]",
      "text/plain": [
       "<Figure size 432x288 with 1 Axes>"
      ]
     },
     "metadata": {
      "needs_background": "light"
     },
     "output_type": "display_data"
    },
    {
     "data": {
      "image/png": "[encoded data removed]",
      "text/plain": [
       "<Figure size 432x288 with 1 Axes>"
      ]
     },
     "metadata": {
      "needs_background": "light"
     },
     "output_type": "display_data"
    },
    {
     "data": {
      "image/png": "[encoded data removed]",
      "text/plain": [
       "<Figure size 432x288 with 1 Axes>"
      ]
     },
     "metadata": {
      "needs_background": "light"
     },
     "output_type": "display_data"
    },
    {
     "data": {
      "image/png": "[encoded data removed]",
      "text/plain": [
       "<Figure size 432x288 with 1 Axes>"
      ]
     },
     "metadata": {
      "needs_background": "light"
     },
     "output_type": "display_data"
    },
    {
     "data": {
      "image/png": "[encoded data removed]",
      "text/plain": [
       "<Figure size 432x288 with 1 Axes>"
      ]
     },
     "metadata": {
      "needs_background": "light"
     },
     "output_type": "display_data"
    },
    {
     "data": {
      "image/png": "[encoded data removed]",
      "text/plain": [
       "<Figure size 432x288 with 1 Axes>"
      ]
     },
     "metadata": {
      "needs_background": "light"
     },
     "output_type": "display_data"
    },
    {
     "data": {
      "image/png": "[encoded data removed]",
      "text/plain": [
       "<Figure size 432x288 with 1 Axes>"
      ]
     },
     "metadata": {
      "needs_background": "light"
     },
     "output_type": "display_data"
    },
    {
     "data": {
      "image/png": "[encoded data removed]",
      "text/plain": [
       "<Figure size 432x288 with 1 Axes>"
      ]
     },
     "metadata": {
      "needs_background": "light"
     },
     "output_type": "display_data"
    },
    {
     "data": {
      "image/png": "[encoded data removed]",
      "text/plain": [
       "<Figure size 432x288 with 1 Axes>"
      ]
     },
     "metadata": {
      "needs_background": "light"
     },
     "output_type": "display_data"
    },
    {
     "data": {
      "image/png": "[encoded data removed]",
      "text/plain": [
       "<Figure size 432x288 with 1 Axes>"
      ]
     },
     "metadata": {
      "needs_background": "light"
     },
     "output_type": "display_data"
    },
    {
     "data": {
      "image/png": "[encoded data removed]",
      "text/plain": [
       "<Figure size 432x288 with 1 Axes>"
      ]
     },
     "metadata": {
      "needs_background": "light"
     },
     "output_type": "display_data"
    },
    {
     "data": {
      "image/png": "[encoded data removed]",
      "text/plain": [
       "<Figure size 432x288 with 1 Axes>"
      ]
     },
     "metadata": {
      "needs_background": "light"
     },
     "output_type": "display_data"
    },
    {
     "data": {
      "image/png": "[encoded data removed]",
      "text/plain": [
       "<Figure size 432x288 with 1 Axes>"
      ]
     },
     "metadata": {
      "needs_background": "light"
     },
     "output_type": "display_data"
    },
    {
     "data": {
      "image/png": "[encoded data removed]",
      "text/plain": [
       "<Figure size 432x288 with 1 Axes>"
      ]
     },
     "metadata": {
      "needs_background": "light"
     },
     "output_type": "display_data"
    },
    {
     "data": {
      "image/png": "[encoded data removed]",
      "text/plain": [
       "<Figure size 432x288 with 1 Axes>"
      ]
     },
     "metadata": {
      "needs_background": "light"
     },
     "output_type": "display_data"
    },
    {
     "data": {
      "image/png": "[encoded data removed]",
      "text/plain": [
       "<Figure size 432x288 with 1 Axes>"
      ]
     },
     "metadata": {
      "needs_background": "light"
     },
     "output_type": "display_data"
    },
    {
     "data": {
      "image/png": "[encoded data removed]",
      "text/plain": [
       "<Figure size 432x288 with 1 Axes>"
      ]
     },
     "metadata": {
      "needs_background": "light"
     },
     "output_type": "display_data"
    },
    {
     "data": {
      "image/png": "[encoded data removed]",
      "text/plain": [
       "<Figure size 432x288 with 1 Axes>"
      ]
     },
     "metadata": {
      "needs_background": "light"
     },
     "output_type": "display_data"
    },
    {
     "data": {
      "image/png": "[encoded data removed]",
      "text/plain": [
       "<Figure size 432x288 with 1 Axes>"
      ]
     },
     "metadata": {
      "needs_background": "light"
     },
     "output_type": "display_data"
    },
    {
     "data": {
      "image/png": "[encoded data removed]",
      "text/plain": [
       "<Figure size 432x288 with 1 Axes>"
      ]
     },
     "metadata": {
      "needs_background": "light"
     },
     "output_type": "display_data"
    },
    {
     "data": {
      "image/png": "[encoded data removed]",
      "text/plain": [
       "<Figure size 432x288 with 1 Axes>"
      ]
     },
     "metadata": {
      "needs_background": "light"
     },
     "output_type": "display_data"
    },
    {
     "data": {
      "image/png": "[encoded data removed]",
      "text/plain": [
       "<Figure size 432x288 with 1 Axes>"
      ]
     },
     "metadata": {
      "needs_background": "light"
     },
     "output_type": "display_data"
    },
    {
     "data": {
      "image/png": "[encoded data removed]",
      "text/plain": [
       "<Figure size 432x288 with 1 Axes>"
      ]
     },
     "metadata": {
      "needs_background": "light"
     },
     "output_type": "display_data"
    },
    {
     "data": {
      "image/png": "[encoded data removed]",
      "text/plain": [
       "<Figure size 432x288 with 1 Axes>"
      ]
     },
     "metadata": {
      "needs_background": "light"
     },
     "output_type": "display_data"
    },
    {
     "data": {
      "image/png": "[encoded data removed]",
      "text/plain": [
       "<Figure size 432x288 with 1 Axes>"
      ]
     },
     "metadata": {
      "needs_background": "light"
     },
     "output_type": "display_data"
    },
    {
     "data": {
      "image/png": "[encoded data removed]",
      "text/plain": [
       "<Figure size 432x288 with 1 Axes>"
      ]
     },
     "metadata": {
      "needs_background": "light"
     },
     "output_type": "display_data"
    },
    {
     "data": {
      "image/png": "[encoded data removed]",
      "text/plain": [
       "<Figure size 432x288 with 1 Axes>"
      ]
     },
     "metadata": {
      "needs_background": "light"
     },
     "output_type": "display_data"
    },
    {
     "data": {
      "image/png": "[encoded data removed]",
      "text/plain": [
       "<Figure size 432x288 with 1 Axes>"
      ]
     },
     "metadata": {
      "needs_background": "light"
     },
     "output_type": "display_data"
    }
   ],
   "source": [
    "import matplotlib.pyplot as plt\n",
    "import numpy as np\n",
    "df_temp=df\n",
    "col_temp=columns.append(\"Y\")\n",
    "df_temp=pd.DataFrame(df_temp,columns=col_temp)\n",
    "for i in range(0,len(df_temp)):\n",
    "    if(df_temp[\"Y\"][i]>6200):\n",
    "        X1=[df_temp[\"Theta_0\"][i],df_temp[\"Theta_1\"][i],df_temp[\"Theta_2\"][i],df_temp[\"Theta_3\"][i],df_temp[\"Theta_4\"][i],df_temp[\"Theta_5\"][i]]\n",
    "        Y1=[df_temp[\"Phi_0\"][i],df_temp[\"Phi_1\"][i],df_temp[\"Phi_2\"][i],df_temp[\"Phi_3\"][i],df_temp[\"Phi_4\"][i],df_temp[\"Phi_5\"][i]]\n",
    "        Z1=[abs(df_temp[\"Bending_Angle0\"][i]),abs(df_temp[\"Bending_Angle1\"][i]),abs(df_temp[\"Bending_Angle2\"][i]),abs(df_temp[\"Bending_Angle3\"][i]),abs(df_temp[\"Bending_Angle4\"][i]),abs(df_temp[\"Bending_Angle5\"][0]),]\n",
    "        A1=[df_temp[\"Ring_no0\"][i],df_temp[\"Ring_no1\"][i],df_temp[\"Ring_no2\"][i],df_temp[\"Ring_no3\"][i],df_temp[\"Ring_no4\"][i],df_temp[\"Ring_no5\"][i]]\n",
    "        #print(Z1)\n",
    "        if(np.nan not in Z1):\n",
    "            plt.scatter(X1, Y1, s=Z1*10000, c=A1,alpha=0.5)\n",
    "            plt.show()"
   ]
  },
  {
   "cell_type": "markdown",
   "metadata": {},
   "source": [
    "### As we can see even the images with high Pt are very much sparse hence better option to this would be 1D Covolutions"
   ]
  },
  {
   "cell_type": "code",
   "execution_count": null,
   "metadata": {},
   "outputs": [],
   "source": [
    " _, accuracy = model4.evaluate(X_test, y_test, verbose=0)"
   ]
  }
 ],
 "metadata": {
  "kernelspec": {
   "display_name": "Python 3",
   "language": "python",
   "name": "python3"
  },
  "language_info": {
   "codemirror_mode": {
    "name": "ipython",
    "version": 3
   },
   "file_extension": ".py",
   "mimetype": "text/x-python",
   "name": "python",
   "nbconvert_exporter": "python",
   "pygments_lexer": "ipython3",
   "version": "3.7.2"
  }
 },
 "nbformat": 4,
 "nbformat_minor": 2
}
